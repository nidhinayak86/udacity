{
 "cells": [
  {
   "cell_type": "markdown",
   "metadata": {},
   "source": [
    "# Artificial Intelligence Nanodegree\n",
    "\n",
    "## Convolutional Neural Networks\n",
    "\n",
    "## Project: Write an Algorithm for a Dog Identification App \n",
    "\n",
    "---\n",
    "\n",
    "In this notebook, some template code has already been provided for you, and you will need to implement additional functionality to successfully complete this project. You will not need to modify the included code beyond what is requested. Sections that begin with **'(IMPLEMENTATION)'** in the header indicate that the following block of code will require additional functionality which you must provide. Instructions will be provided for each section, and the specifics of the implementation are marked in the code block with a 'TODO' statement. Please be sure to read the instructions carefully! \n",
    "\n",
    "> **Note**: Once you have completed all of the code implementations, you need to finalize your work by exporting the iPython Notebook as an HTML document. Before exporting the notebook to html, all of the code cells need to have been run so that reviewers can see the final implementation and output. You can then export the notebook by using the menu above and navigating to  \\n\",\n",
    "    \"**File -> Download as -> HTML (.html)**. Include the finished document along with this notebook as your submission.\n",
    "\n",
    "In addition to implementing code, there will be questions that you must answer which relate to the project and your implementation. Each section where you will answer a question is preceded by a **'Question X'** header. Carefully read each question and provide thorough answers in the following text boxes that begin with **'Answer:'**. Your project submission will be evaluated based on your answers to each of the questions and the implementation you provide.\n",
    "\n",
    ">**Note:** Code and Markdown cells can be executed using the **Shift + Enter** keyboard shortcut.  Markdown cells can be edited by double-clicking the cell to enter edit mode.\n",
    "\n",
    "The rubric contains _optional_ \"Stand Out Suggestions\" for enhancing the project beyond the minimum requirements. If you decide to pursue the \"Stand Out Suggestions\", you should include the code in this IPython notebook.\n",
    "\n",
    "\n",
    "\n",
    "---\n",
    "### Why We're Here \n",
    "\n",
    "In this notebook, you will make the first steps towards developing an algorithm that could be used as part of a mobile or web app.  At the end of this project, your code will accept any user-supplied image as input.  If a dog is detected in the image, it will provide an estimate of the dog's breed.  If a human is detected, it will provide an estimate of the dog breed that is most resembling.  The image below displays potential sample output of your finished project (... but we expect that each student's algorithm will behave differently!). \n",
    "\n",
    "![Sample Dog Output](images/sample_dog_output.png)\n",
    "\n",
    "In this real-world setting, you will need to piece together a series of models to perform different tasks; for instance, the algorithm that detects humans in an image will be different from the CNN that infers dog breed.  There are many points of possible failure, and no perfect algorithm exists.  Your imperfect solution will nonetheless create a fun user experience!\n",
    "\n",
    "### The Road Ahead\n",
    "\n",
    "We break the notebook into separate steps.  Feel free to use the links below to navigate the notebook.\n",
    "\n",
    "* [Step 0](#step0): Import Datasets\n",
    "* [Step 1](#step1): Detect Humans\n",
    "* [Step 2](#step2): Detect Dogs\n",
    "* [Step 3](#step3): Create a CNN to Classify Dog Breeds (from Scratch)\n",
    "* [Step 4](#step4): Use a CNN to Classify Dog Breeds (using Transfer Learning)\n",
    "* [Step 5](#step5): Create a CNN to Classify Dog Breeds (using Transfer Learning)\n",
    "* [Step 6](#step6): Write your Algorithm\n",
    "* [Step 7](#step7): Test Your Algorithm\n",
    "\n",
    "---\n",
    "<a id='step0'></a>\n",
    "## Step 0: Import Datasets\n",
    "\n",
    "### Import Dog Dataset\n",
    "\n",
    "In the code cell below, we import a dataset of dog images.  We populate a few variables through the use of the `load_files` function from the scikit-learn library:\n",
    "- `train_files`, `valid_files`, `test_files` - numpy arrays containing file paths to images\n",
    "- `train_targets`, `valid_targets`, `test_targets` - numpy arrays containing onehot-encoded classification labels \n",
    "- `dog_names` - list of string-valued dog breed names for translating labels"
   ]
  },
  {
   "cell_type": "code",
   "execution_count": 32,
   "metadata": {},
   "outputs": [
    {
     "name": "stdout",
     "output_type": "stream",
     "text": [
      "There are 133 total dog categories.\n",
      "There are 8351 total dog images.\n",
      "\n",
      "There are 6680 training dog images.\n",
      "There are 835 validation dog images.\n",
      "There are 836 test dog images.\n"
     ]
    }
   ],
   "source": [
    "from sklearn.datasets import load_files       \n",
    "from keras.utils import np_utils\n",
    "import numpy as np\n",
    "from glob import glob\n",
    "\n",
    "# define function to load train, test, and validation datasets\n",
    "def load_dataset(path):\n",
    "    data = load_files(path)\n",
    "    dog_files = np.array(data['filenames'])\n",
    "    dog_targets = np_utils.to_categorical(np.array(data['target']), 133)\n",
    "    return dog_files, dog_targets\n",
    "\n",
    "# load train, test, and validation datasets\n",
    "train_files, train_targets = load_dataset('dogImages/train')\n",
    "valid_files, valid_targets = load_dataset('dogImages/valid')\n",
    "test_files, test_targets = load_dataset('dogImages/test')\n",
    "\n",
    "# load list of dog names\n",
    "dog_names = [item[20:-1] for item in sorted(glob(\"dogImages/train/*/\"))]\n",
    "\n",
    "# print statistics about the dataset\n",
    "print('There are %d total dog categories.' % len(dog_names))\n",
    "print('There are %s total dog images.\\n' % len(np.hstack([train_files, valid_files, test_files])))\n",
    "print('There are %d training dog images.' % len(train_files))\n",
    "print('There are %d validation dog images.' % len(valid_files))\n",
    "print('There are %d test dog images.'% len(test_files))"
   ]
  },
  {
   "cell_type": "markdown",
   "metadata": {},
   "source": [
    "### Import Human Dataset\n",
    "\n",
    "In the code cell below, we import a dataset of human images, where the file paths are stored in the numpy array `human_files`."
   ]
  },
  {
   "cell_type": "code",
   "execution_count": 50,
   "metadata": {},
   "outputs": [
    {
     "name": "stdout",
     "output_type": "stream",
     "text": [
      "There are 5750 total human images.\n"
     ]
    }
   ],
   "source": [
    "import random\n",
    "random.seed(8675309)\n",
    "\n",
    "# load filenames in shuffled human dataset\n",
    "human_files = np.array(glob(\"lfw/*/*\"))\n",
    "random.shuffle(human_files)\n",
    "\n",
    "# print statistics about the dataset\n",
    "print('There are %d total human images.' % len(human_files))"
   ]
  },
  {
   "cell_type": "markdown",
   "metadata": {},
   "source": [
    "---\n",
    "<a id='step1'></a>\n",
    "## Step 1: Detect Humans\n",
    "\n",
    "We use OpenCV's implementation of [Haar feature-based cascade classifiers](http://docs.opencv.org/trunk/d7/d8b/tutorial_py_face_detection.html) to detect human faces in images.  OpenCV provides many pre-trained face detectors, stored as XML files on [github](https://github.com/opencv/opencv/tree/master/data/haarcascades).  We have downloaded one of these detectors and stored it in the `haarcascades` directory.\n",
    "\n",
    "In the next code cell, we demonstrate how to use this detector to find human faces in a sample image."
   ]
  },
  {
   "cell_type": "code",
   "execution_count": 51,
   "metadata": {},
   "outputs": [
    {
     "name": "stdout",
     "output_type": "stream",
     "text": [
      "lfw/lfw/Paul_Lo_Duca\n",
      "Number of faces detected: 1\n"
     ]
    },
    {
     "data": {
      "image/png": "[encoded data removed]",
      "text/plain": [
       "<matplotlib.figure.Figure at 0x7f6568589588>"
      ]
     },
     "metadata": {},
     "output_type": "display_data"
    }
   ],
   "source": [
    "import cv2                 \n",
    "import matplotlib.pyplot as plt                        \n",
    "%matplotlib inline                               \n",
    "import glob\n",
    "# extract pre-trained face detector\n",
    "face_cascade = cv2.CascadeClassifier('haarcascades/haarcascade_frontalface_alt.xml')\n",
    "\n",
    "print(human_files[3])\n",
    "# load color (BGR) image\n",
    "for image in glob.glob(human_files[3] +\"/*\"):\n",
    "    img = cv2.imread(image)\n",
    "\n",
    "    # convert BGR image to grayscale\n",
    "    gray = cv2.cvtColor(img, cv2.COLOR_BGR2GRAY)\n",
    "\n",
    "    #gray =cv2.imread(human_files[3] ,0)\n",
    "    # find faces in image\n",
    "    faces = face_cascade.detectMultiScale(gray)\n",
    "\n",
    "    # print number of faces detected in the image\n",
    "    print('Number of faces detected:', len(faces))\n",
    "\n",
    "    # get bounding box for each detected face\n",
    "    for (x,y,w,h) in faces:\n",
    "        # add bounding box to color image\n",
    "        cv2.rectangle(img,(x,y),(x+w,y+h),(255,0,0),2)\n",
    "\n",
    "    # convert BGR image to RGB for plotting\n",
    "    cv_rgb = cv2.cvtColor(img, cv2.COLOR_BGR2RGB)\n",
    "    #cv_rgb =cv2.imread(human_files[3] ,1)\n",
    "\n",
    "\n",
    "    # display the image, along with bounding box\n",
    "    plt.imshow(cv_rgb)\n",
    "    plt.show()"
   ]
  },
  {
   "cell_type": "markdown",
   "metadata": {},
   "source": [
    "Before using any of the face detectors, it is standard procedure to convert the images to grayscale.  The `detectMultiScale` function executes the classifier stored in `face_cascade` and takes the grayscale image as a parameter.  \n",
    "\n",
    "In the above code, `faces` is a numpy array of detected faces, where each row corresponds to a detected face.  Each detected face is a 1D array with four entries that specifies the bounding box of the detected face.  The first two entries in the array (extracted in the above code as `x` and `y`) specify the horizontal and vertical positions of the top left corner of the bounding box.  The last two entries in the array (extracted here as `w` and `h`) specify the width and height of the box.\n",
    "\n",
    "### Write a Human Face Detector\n",
    "\n",
    "We can use this procedure to write a function that returns `True` if a human face is detected in an image and `False` otherwise.  This function, aptly named `face_detector`, takes a string-valued file path to an image as input and appears in the code block below."
   ]
  },
  {
   "cell_type": "code",
   "execution_count": 52,
   "metadata": {
    "collapsed": true
   },
   "outputs": [],
   "source": [
    "# returns \"True\" if face is detected in image stored at img_path\n",
    "def face_detector(img_path):\n",
    "    img = cv2.imread(img_path)\n",
    "    gray = cv2.cvtColor(img, cv2.COLOR_BGR2GRAY)\n",
    "    faces = face_cascade.detectMultiScale(gray)\n",
    "    return len(faces) > 0"
   ]
  },
  {
   "cell_type": "markdown",
   "metadata": {},
   "source": [
    "### (IMPLEMENTATION) Assess the Human Face Detector\n",
    "\n",
    "__Question 1:__ Use the code cell below to test the performance of the `face_detector` function.  \n",
    "- What percentage of the first 100 images in `human_files` have a detected human face?  \n",
    "- What percentage of the first 100 images in `dog_files` have a detected human face? \n",
    "\n",
    "Ideally, we would like 100% of human images with a detected face and 0% of dog images with a detected face.  You will see that our algorithm falls short of this goal, but still gives acceptable performance.  We extract the file paths for the first 100 images from each of the datasets and store them in the numpy arrays `human_files_short` and `dog_files_short`.\n",
    "\n",
    "__Answer:__ "
   ]
  },
  {
   "cell_type": "code",
   "execution_count": 53,
   "metadata": {},
   "outputs": [
    {
     "name": "stdout",
     "output_type": "stream",
     "text": [
      "230\n",
      "231\n",
      "human prediction accuracy=99.56709956709956\n",
      "11\n",
      "100\n",
      "dogs prediction accuracy=11.0\n"
     ]
    }
   ],
   "source": [
    "human_files_short = human_files[:100]\n",
    "dog_files_short = train_files[:100]\n",
    "# Do NOT modify the code above this line.\n",
    "\n",
    "#for humans\n",
    "count_predicted_humans=0\n",
    "count_total_humans=0\n",
    "for i in range(0, len(human_files_short)):\n",
    "    for image in glob.glob(human_files[i] +\"/*\"):\n",
    "        count_total_humans=count_total_humans+1\n",
    "        if face_detector(image):\n",
    "            count_predicted_humans =count_predicted_humans +1\n",
    "        \n",
    "print(count_predicted_humans)\n",
    "print(count_total_humans)\n",
    "print (\"human prediction accuracy=\" + str((count_predicted_humans*100)/count_total_humans))\n",
    "\n",
    "\n",
    "\n",
    "#for dogs\n",
    "#print(dog_files_short[2])\n",
    "count_predicted_dogs=0\n",
    "count_total_dogs=0\n",
    "for i in range(0, len(dog_files_short)):\n",
    "    count_total_dogs=count_total_dogs+1\n",
    "    if face_detector(dog_files_short[i]):\n",
    "        count_predicted_dogs =count_predicted_dogs +1\n",
    "        \n",
    "print(count_predicted_dogs)\n",
    "print(count_total_dogs)\n",
    "print (\"dogs prediction accuracy=\" + str(((count_predicted_dogs)*100)/count_total_dogs))\n",
    "\n",
    "#face_detector(human_files_short[0]+\"/*\")\n",
    "#face_detector(human_files_short[1]+\"/*\")\n",
    "## TODO: Test the performance of the face_detector algorithm \n",
    "## on the images in human_files_short and dog_files_short."
   ]
  },
  {
   "cell_type": "markdown",
   "metadata": {},
   "source": [
    "__Question 2:__ This algorithmic choice necessitates that we communicate to the user that we accept human images only when they provide a clear view of a face (otherwise, we risk having unneccessarily frustrated users!). In your opinion, is this a reasonable expectation to pose on the user? If not, can you think of a way to detect humans in images that does not necessitate an image with a clearly presented face?\n",
    "\n",
    "__Answer:__\n",
    "\n",
    "This is not a reasonable expectation to pose on the user to always show his face. We may have use case to detect humans with side view of face or just the small portion of faces looking from the car during parking barrier etc. Open cv way could be best for detecting human faces from camera images like during preview and focus stages from handheld camera such filter can be used to automate focus on humans.  \n",
    "\n"
   ]
  },
  {
   "cell_type": "code",
   "execution_count": null,
   "metadata": {
    "collapsed": true
   },
   "outputs": [],
   "source": [
    "## (Optional) TODO: Report the performance of another  \n",
    "## face detection algorithm on the LFW dataset\n",
    "### Feel free to use as many code cells as needed.\n"
   ]
  },
  {
   "cell_type": "markdown",
   "metadata": {},
   "source": [
    "---\n",
    "<a id='step2'></a>\n",
    "## Step 2: Detect Dogs\n",
    "\n",
    "In this section, we use a pre-trained [ResNet-50](http://ethereon.github.io/netscope/#/gist/db945b393d40bfa26006) model to detect dogs in images.  Our first line of code downloads the ResNet-50 model, along with weights that have been trained on [ImageNet](http://www.image-net.org/), a very large, very popular dataset used for image classification and other vision tasks.  ImageNet contains over 10 million URLs, each linking to an image containing an object from one of [1000 categories](https://gist.github.com/yrevar/942d3a0ac09ec9e5eb3a).  Given an image, this pre-trained ResNet-50 model returns a prediction (derived from the available categories in ImageNet) for the object that is contained in the image."
   ]
  },
  {
   "cell_type": "code",
   "execution_count": 54,
   "metadata": {
    "collapsed": true
   },
   "outputs": [],
   "source": [
    "import tensorflow as tf \n",
    "from tensorflow.contrib import rnn \n",
    "if hasattr(tf.contrib, 'ctc'):\n",
    "  ctc = tf.contrib.ctc  # old version\n",
    "else:\n",
    "  ctc = tf.nn  # New official version.\n"
   ]
  },
  {
   "cell_type": "code",
   "execution_count": 55,
   "metadata": {
    "collapsed": true
   },
   "outputs": [],
   "source": [
    "from keras.applications.resnet50 import ResNet50\n",
    "\n",
    "# define ResNet50 model\n",
    "ResNet50_model = ResNet50(weights='imagenet')"
   ]
  },
  {
   "cell_type": "markdown",
   "metadata": {},
   "source": [
    "### Pre-process the Data\n",
    "\n",
    "When using TensorFlow as backend, Keras CNNs require a 4D array (which we'll also refer to as a 4D tensor) as input, with shape\n",
    "\n",
    "$$\n",
    "(\\text{nb_samples}, \\text{rows}, \\text{columns}, \\text{channels}),\n",
    "$$\n",
    "\n",
    "where `nb_samples` corresponds to the total number of images (or samples), and `rows`, `columns`, and `channels` correspond to the number of rows, columns, and channels for each image, respectively.  \n",
    "\n",
    "The `path_to_tensor` function below takes a string-valued file path to a color image as input and returns a 4D tensor suitable for supplying to a Keras CNN.  The function first loads the image and resizes it to a square image that is $224 \\times 224$ pixels.  Next, the image is converted to an array, which is then resized to a 4D tensor.  In this case, since we are working with color images, each image has three channels.  Likewise, since we are processing a single image (or sample), the returned tensor will always have shape\n",
    "\n",
    "$$\n",
    "(1, 224, 224, 3).\n",
    "$$\n",
    "\n",
    "The `paths_to_tensor` function takes a numpy array of string-valued image paths as input and returns a 4D tensor with shape \n",
    "\n",
    "$$\n",
    "(\\text{nb_samples}, 224, 224, 3).\n",
    "$$\n",
    "\n",
    "Here, `nb_samples` is the number of samples, or number of images, in the supplied array of image paths.  It is best to think of `nb_samples` as the number of 3D tensors (where each 3D tensor corresponds to a different image) in your dataset!"
   ]
  },
  {
   "cell_type": "code",
   "execution_count": 56,
   "metadata": {
    "collapsed": true
   },
   "outputs": [],
   "source": [
    "from keras.preprocessing import image                  \n",
    "from tqdm import tqdm\n",
    "\n",
    "def path_to_tensor(img_path):\n",
    "    #print(img_path)\n",
    "    # loads RGB image as PIL.Image.Image type\n",
    "    type(image)\n",
    "    img = image.load_img(img_path, target_size=(224, 224))\n",
    "    # convert PIL.Image.Image type to 3D tensor with shape (224, 224, 3)\n",
    "    x = image.img_to_array(img)\n",
    "    # convert 3D tensor to 4D tensor with shape (1, 224, 224, 3) and return 4D tensor\n",
    "    return np.expand_dims(x, axis=0)\n",
    "\n",
    "def paths_to_tensor(img_paths):\n",
    "    list_of_tensors = [path_to_tensor(img_path) for img_path in tqdm(img_paths)]\n",
    "    return np.vstack(list_of_tensors)"
   ]
  },
  {
   "cell_type": "markdown",
   "metadata": {},
   "source": [
    "### Making Predictions with ResNet-50\n",
    "\n",
    "Getting the 4D tensor ready for ResNet-50, and for any other pre-trained model in Keras, requires some additional processing.  First, the RGB image is converted to BGR by reordering the channels.  All pre-trained models have the additional normalization step that the mean pixel (expressed in RGB as $[103.939, 116.779, 123.68]$ and calculated from all pixels in all images in ImageNet) must be subtracted from every pixel in each image.  This is implemented in the imported function `preprocess_input`.  If you're curious, you can check the code for `preprocess_input` [here](https://github.com/fchollet/keras/blob/master/keras/applications/imagenet_utils.py).\n",
    "\n",
    "Now that we have a way to format our image for supplying to ResNet-50, we are now ready to use the model to extract the predictions.  This is accomplished with the `predict` method, which returns an array whose $i$-th entry is the model's predicted probability that the image belongs to the $i$-th ImageNet category.  This is implemented in the `ResNet50_predict_labels` function below.\n",
    "\n",
    "By taking the argmax of the predicted probability vector, we obtain an integer corresponding to the model's predicted object class, which we can identify with an object category through the use of this [dictionary](https://gist.github.com/yrevar/942d3a0ac09ec9e5eb3a). "
   ]
  },
  {
   "cell_type": "code",
   "execution_count": 57,
   "metadata": {
    "collapsed": true
   },
   "outputs": [],
   "source": [
    "from keras.applications.resnet50 import preprocess_input, decode_predictions\n",
    "\n",
    "def ResNet50_predict_labels(img_path):\n",
    "    # returns prediction vector for image located at img_path\n",
    "    img = preprocess_input(path_to_tensor(img_path))\n",
    "    return np.argmax(ResNet50_model.predict(img))"
   ]
  },
  {
   "cell_type": "markdown",
   "metadata": {},
   "source": [
    "### Write a Dog Detector\n",
    "\n",
    "While looking at the [dictionary](https://gist.github.com/yrevar/942d3a0ac09ec9e5eb3a), you will notice that the categories corresponding to dogs appear in an uninterrupted sequence and correspond to dictionary keys 151-268, inclusive, to include all categories from `'Chihuahua'` to `'Mexican hairless'`.  Thus, in order to check to see if an image is predicted to contain a dog by the pre-trained ResNet-50 model, we need only check if the `ResNet50_predict_labels` function above returns a value between 151 and 268 (inclusive).\n",
    "\n",
    "We use these ideas to complete the `dog_detector` function below, which returns `True` if a dog is detected in an image (and `False` if not)."
   ]
  },
  {
   "cell_type": "code",
   "execution_count": 58,
   "metadata": {
    "collapsed": true
   },
   "outputs": [],
   "source": [
    "### returns \"True\" if a dog is detected in the image stored at img_path\n",
    "def dog_detector(img_path):\n",
    "    prediction = ResNet50_predict_labels(img_path)\n",
    "    return ((prediction <= 268) & (prediction >= 151)) "
   ]
  },
  {
   "cell_type": "markdown",
   "metadata": {},
   "source": [
    "### (IMPLEMENTATION) Assess the Dog Detector\n",
    "\n",
    "__Question 3:__ Use the code cell below to test the performance of your `dog_detector` function.  \n",
    "- What percentage of the images in `human_files_short` have a detected dog?  \n",
    "- What percentage of the images in `dog_files_short` have a detected dog?\n",
    "\n",
    "__Answer:__ "
   ]
  },
  {
   "cell_type": "code",
   "execution_count": 59,
   "metadata": {},
   "outputs": [
    {
     "name": "stdout",
     "output_type": "stream",
     "text": [
      "4\n",
      "231\n",
      "human prediction accuracy=1.7316017316017316\n",
      "100\n",
      "100\n",
      "dogs prediction accuracy=100.0\n"
     ]
    }
   ],
   "source": [
    "### TODO: Test the performance of the dog_detector function\n",
    "### on the images in human_files_short and dog_files_short.\n",
    "\n",
    "\n",
    "#for humans\n",
    "count_predicted_humans=0\n",
    "count_total_humans=0\n",
    "for i in range(0, len(human_files_short)):\n",
    "    for image_in_folder in glob.glob(human_files[i]+\"/*\" ):\n",
    "        count_total_humans=count_total_humans+1\n",
    "        #print(image_in_folder)\n",
    "        if dog_detector(image_in_folder):\n",
    "            count_predicted_humans =count_predicted_humans +1\n",
    "        \n",
    "print(count_predicted_humans)\n",
    "print(count_total_humans)\n",
    "print (\"human prediction accuracy=\" + str((count_predicted_humans*100)/count_total_humans))\n",
    "\n",
    "\n",
    "\n",
    "#for dogs\n",
    "#print(dog_files_short[2])\n",
    "count_predicted_dogs=0\n",
    "count_total_dogs=0\n",
    "for i in range(0, len(dog_files_short)):\n",
    "    count_total_dogs=count_total_dogs+1\n",
    "    if dog_detector(dog_files_short[i]):\n",
    "        count_predicted_dogs =count_predicted_dogs +1\n",
    "        \n",
    "print(count_predicted_dogs)\n",
    "print(count_total_dogs)\n",
    "print (\"dogs prediction accuracy=\" + str(((count_predicted_dogs)*100)/count_total_dogs))\n"
   ]
  },
  {
   "cell_type": "markdown",
   "metadata": {},
   "source": [
    "---\n",
    "<a id='step3'></a>\n",
    "## Step 3: Create a CNN to Classify Dog Breeds (from Scratch)\n",
    "\n",
    "Now that we have functions for detecting humans and dogs in images, we need a way to predict breed from images.  In this step, you will create a CNN that classifies dog breeds.  You must create your CNN _from scratch_ (so, you can't use transfer learning _yet_!), and you must attain a test accuracy of at least 1%.  In Step 5 of this notebook, you will have the opportunity to use transfer learning to create a CNN that attains greatly improved accuracy.\n",
    "\n",
    "Be careful with adding too many trainable layers!  More parameters means longer training, which means you are more likely to need a GPU to accelerate the training process.  Thankfully, Keras provides a handy estimate of the time that each epoch is likely to take; you can extrapolate this estimate to figure out how long it will take for your algorithm to train. \n",
    "\n",
    "We mention that the task of assigning breed to dogs from images is considered exceptionally challenging.  To see why, consider that *even a human* would have great difficulty in distinguishing between a Brittany and a Welsh Springer Spaniel.  \n",
    "\n",
    "Brittany | Welsh Springer Spaniel\n",
    "- | - \n",
    "<img src=\"images/Brittany_02625.jpg\" width=\"100\"> | <img src=\"images/Welsh_springer_spaniel_08203.jpg\" width=\"200\">\n",
    "\n",
    "It is not difficult to find other dog breed pairs with minimal inter-class variation (for instance, Curly-Coated Retrievers and American Water Spaniels).  \n",
    "\n",
    "Curly-Coated Retriever | American Water Spaniel\n",
    "- | -\n",
    "<img src=\"images/Curly-coated_retriever_03896.jpg\" width=\"200\"> | <img src=\"images/American_water_spaniel_00648.jpg\" width=\"200\">\n",
    "\n",
    "\n",
    "Likewise, recall that labradors come in yellow, chocolate, and black.  Your vision-based algorithm will have to conquer this high intra-class variation to determine how to classify all of these different shades as the same breed.  \n",
    "\n",
    "Yellow Labrador | Chocolate Labrador | Black Labrador\n",
    "- | -\n",
    "<img src=\"images/Labrador_retriever_06457.jpg\" width=\"150\"> | <img src=\"images/Labrador_retriever_06455.jpg\" width=\"240\"> | <img src=\"images/Labrador_retriever_06449.jpg\" width=\"220\">\n",
    "\n",
    "We also mention that random chance presents an exceptionally low bar: setting aside the fact that the classes are slightly imabalanced, a random guess will provide a correct answer roughly 1 in 133 times, which corresponds to an accuracy of less than 1%.  \n",
    "\n",
    "Remember that the practice is far ahead of the theory in deep learning.  Experiment with many different architectures, and trust your intuition.  And, of course, have fun! \n",
    "\n",
    "### Pre-process the Data\n",
    "\n",
    "We rescale the images by dividing every pixel in every image by 255."
   ]
  },
  {
   "cell_type": "code",
   "execution_count": 60,
   "metadata": {},
   "outputs": [
    {
     "name": "stderr",
     "output_type": "stream",
     "text": [
      "100%|██████████| 6680/6680 [00:44<00:00, 149.79it/s]\n",
      "100%|██████████| 835/835 [00:04<00:00, 174.68it/s]\n",
      "100%|██████████| 836/836 [00:04<00:00, 175.75it/s]\n"
     ]
    }
   ],
   "source": [
    "from PIL import ImageFile                            \n",
    "ImageFile.LOAD_TRUNCATED_IMAGES = True                 \n",
    "\n",
    "# pre-process the data for Keras\n",
    "train_tensors = paths_to_tensor(train_files).astype('float32')/255\n",
    "valid_tensors = paths_to_tensor(valid_files).astype('float32')/255\n",
    "test_tensors = paths_to_tensor(test_files).astype('float32')/255"
   ]
  },
  {
   "cell_type": "code",
   "execution_count": 61,
   "metadata": {},
   "outputs": [
    {
     "data": {
      "text/plain": [
       "(6680, 224, 224, 3)"
      ]
     },
     "execution_count": 61,
     "metadata": {},
     "output_type": "execute_result"
    }
   ],
   "source": [
    "train_tensors.shape\n"
   ]
  },
  {
   "cell_type": "markdown",
   "metadata": {},
   "source": [
    "### (IMPLEMENTATION) Model Architecture\n",
    "\n",
    "Create a CNN to classify dog breed.  At the end of your code cell block, summarize the layers of your model by executing the line:\n",
    "    \n",
    "        model.summary()\n",
    "\n",
    "We have imported some Python modules to get you started, but feel free to import as many modules as you need.  If you end up getting stuck, here's a hint that specifies a model that trains relatively fast on CPU and attains >1% test accuracy in 5 epochs:\n",
    "\n",
    "![Sample CNN](images/sample_cnn.png)\n",
    "           \n",
    "__Question 4:__ Outline the steps you took to get to your final CNN architecture and your reasoning at each step.  If you chose to use the hinted architecture above, describe why you think that CNN architecture should work well for the image classification task.\n",
    "\n",
    "__Answer:__ \n",
    "\n",
    "We have chosen the hinted Two layer convolution layer network architecture reason being as per lectures first layer will usually detect Gabour filters of basic edges and further convolution layer can learn more complex features using previous layers. So achievinh accuracy more than 1% is possible with this approach."
   ]
  },
  {
   "cell_type": "code",
   "execution_count": 5,
   "metadata": {
    "collapsed": true
   },
   "outputs": [],
   "source": [
    "from keras.layers import AveragePooling2D\n",
    "from keras.layers import Convolution2D\n",
    "from keras.layers import Dense, Dropout, Activation, Flatten\n",
    "from keras.utils import np_utils"
   ]
  },
  {
   "cell_type": "code",
   "execution_count": 29,
   "metadata": {},
   "outputs": [
    {
     "name": "stdout",
     "output_type": "stream",
     "text": [
      "_________________________________________________________________\n",
      "Layer (type)                 Output Shape              Param #   \n",
      "=================================================================\n",
      "conv2d_72 (Conv2D)           (None, 223, 223, 16)      208       \n",
      "_________________________________________________________________\n",
      "max_pooling2d_71 (MaxPooling (None, 111, 111, 16)      0         \n",
      "_________________________________________________________________\n",
      "conv2d_73 (Conv2D)           (None, 110, 110, 32)      2080      \n",
      "_________________________________________________________________\n",
      "max_pooling2d_72 (MaxPooling (None, 55, 55, 32)        0         \n",
      "_________________________________________________________________\n",
      "conv2d_74 (Conv2D)           (None, 54, 54, 64)        8256      \n",
      "_________________________________________________________________\n",
      "max_pooling2d_73 (MaxPooling (None, 27, 27, 64)        0         \n",
      "_________________________________________________________________\n",
      "global_average_pooling2d_22  (None, 64)                0         \n",
      "_________________________________________________________________\n",
      "dense_22 (Dense)             (None, 133)               8645      \n",
      "_________________________________________________________________\n",
      "activation_19 (Activation)   (None, 133)               0         \n",
      "=================================================================\n",
      "Total params: 19,189.0\n",
      "Trainable params: 19,189.0\n",
      "Non-trainable params: 0.0\n",
      "_________________________________________________________________\n"
     ]
    }
   ],
   "source": [
    "from keras.layers import Conv2D, MaxPooling2D, GlobalAveragePooling2D\n",
    "from keras.layers import Dropout, Flatten, Dense\n",
    "from keras.models import Sequential\n",
    "\n",
    "model = Sequential()\n",
    "model.add(Convolution2D(16, (2,2),input_shape=( 224, 224,3), padding=\"valid\",data_format=\"channels_last\"))\n",
    "model.add(MaxPooling2D(pool_size=(2,2), strides=None, padding='valid' ))\n",
    "#model.add(Activation(\"relu\"))\n",
    "\n",
    "model.add(Convolution2D(32, (2, 2), padding=\"valid\"))\n",
    "model.add(MaxPooling2D(pool_size=(2,2), strides=None, padding='valid' ))\n",
    "#model.add(Activation(\"relu\"))\n",
    "\n",
    "\n",
    "model.add(Convolution2D(64, (2, 2), padding=\"valid\"))\n",
    "model.add(MaxPooling2D(pool_size=(2,2), strides=None, padding='valid' ))\n",
    "#model.add(Activation(\"relu\"))\n",
    "\n",
    "model.add(GlobalAveragePooling2D(data_format=None))\n",
    "model.add(Dense(133))\n",
    "model.add(Activation(\"softmax\"))\n",
    "\n",
    "### TODO: Define your architecture.\n",
    "\n",
    "model.summary()"
   ]
  },
  {
   "cell_type": "markdown",
   "metadata": {},
   "source": [
    "### Compile the Model"
   ]
  },
  {
   "cell_type": "code",
   "execution_count": 64,
   "metadata": {
    "collapsed": true
   },
   "outputs": [],
   "source": [
    "model.compile(optimizer='rmsprop', loss='categorical_crossentropy', metrics=['accuracy'])"
   ]
  },
  {
   "cell_type": "markdown",
   "metadata": {},
   "source": [
    "### (IMPLEMENTATION) Train the Model\n",
    "\n",
    "Train your model in the code cell below.  Use model checkpointing to save the model that attains the best validation loss.\n",
    "\n",
    "You are welcome to [augment the training data](https://blog.keras.io/building-powerful-image-classification-models-using-very-little-data.html), but this is not a requirement. "
   ]
  },
  {
   "cell_type": "code",
   "execution_count": null,
   "metadata": {
    "collapsed": true
   },
   "outputs": [],
   "source": [
    "from keras.callbacks import ModelCheckpoint  "
   ]
  },
  {
   "cell_type": "code",
   "execution_count": 26,
   "metadata": {},
   "outputs": [
    {
     "name": "stdout",
     "output_type": "stream",
     "text": [
      "Train on 6680 samples, validate on 835 samples\n",
      "Epoch 1/20\n",
      "6660/6680 [============================>.] - ETA: 0s - loss: 4.8811 - acc: 0.0104Epoch 00000: val_loss improved from inf to 4.85591, saving model to saved_models/weights.best.from_scratch.hdf5\n",
      "6680/6680 [==============================] - 96s - loss: 4.8810 - acc: 0.0105 - val_loss: 4.8559 - val_acc: 0.0132\n",
      "Epoch 2/20\n",
      "6660/6680 [============================>.] - ETA: 0s - loss: 4.8288 - acc: 0.0171Epoch 00001: val_loss improved from 4.85591 to 4.80772, saving model to saved_models/weights.best.from_scratch.hdf5\n",
      "6680/6680 [==============================] - 96s - loss: 4.8291 - acc: 0.0171 - val_loss: 4.8077 - val_acc: 0.0168\n",
      "Epoch 3/20\n",
      "6660/6680 [============================>.] - ETA: 0s - loss: 4.7938 - acc: 0.0206Epoch 00002: val_loss improved from 4.80772 to 4.80103, saving model to saved_models/weights.best.from_scratch.hdf5\n",
      "6680/6680 [==============================] - 98s - loss: 4.7941 - acc: 0.0205 - val_loss: 4.8010 - val_acc: 0.0144\n",
      "Epoch 4/20\n",
      "6660/6680 [============================>.] - ETA: 0s - loss: 4.7851 - acc: 0.0197Epoch 00003: val_loss improved from 4.80103 to 4.79697, saving model to saved_models/weights.best.from_scratch.hdf5\n",
      "6680/6680 [==============================] - 96s - loss: 4.7853 - acc: 0.0198 - val_loss: 4.7970 - val_acc: 0.0251\n",
      "Epoch 5/20\n",
      "6660/6680 [============================>.] - ETA: 0s - loss: 4.7784 - acc: 0.0207Epoch 00004: val_loss improved from 4.79697 to 4.79565, saving model to saved_models/weights.best.from_scratch.hdf5\n",
      "6680/6680 [==============================] - 99s - loss: 4.7788 - acc: 0.0207 - val_loss: 4.7956 - val_acc: 0.0168\n",
      "Epoch 6/20\n",
      "6660/6680 [============================>.] - ETA: 0s - loss: 4.7761 - acc: 0.0203Epoch 00005: val_loss did not improve\n",
      "6680/6680 [==============================] - 96s - loss: 4.7755 - acc: 0.0204 - val_loss: 4.7958 - val_acc: 0.0120\n",
      "Epoch 7/20\n",
      "6660/6680 [============================>.] - ETA: 0s - loss: 4.7695 - acc: 0.0216Epoch 00006: val_loss improved from 4.79565 to 4.78664, saving model to saved_models/weights.best.from_scratch.hdf5\n",
      "6680/6680 [==============================] - 95s - loss: 4.7698 - acc: 0.0216 - val_loss: 4.7866 - val_acc: 0.0216\n",
      "Epoch 8/20\n",
      "6660/6680 [============================>.] - ETA: 0s - loss: 4.7685 - acc: 0.0236Epoch 00007: val_loss did not improve\n",
      "6680/6680 [==============================] - 96s - loss: 4.7687 - acc: 0.0237 - val_loss: 4.7968 - val_acc: 0.0156\n",
      "Epoch 9/20\n",
      "6660/6680 [============================>.] - ETA: 0s - loss: 4.7664 - acc: 0.0243Epoch 00008: val_loss did not improve\n",
      "6680/6680 [==============================] - 95s - loss: 4.7665 - acc: 0.0243 - val_loss: 4.7886 - val_acc: 0.0240\n",
      "Epoch 10/20\n",
      "6660/6680 [============================>.] - ETA: 0s - loss: 4.7643 - acc: 0.0279Epoch 00009: val_loss improved from 4.78664 to 4.77781, saving model to saved_models/weights.best.from_scratch.hdf5\n",
      "6680/6680 [==============================] - 96s - loss: 4.7646 - acc: 0.0278 - val_loss: 4.7778 - val_acc: 0.0287\n",
      "Epoch 11/20\n",
      "6660/6680 [============================>.] - ETA: 0s - loss: 4.7606 - acc: 0.0290Epoch 00010: val_loss did not improve\n",
      "6680/6680 [==============================] - 96s - loss: 4.7608 - acc: 0.0289 - val_loss: 4.7893 - val_acc: 0.0168\n",
      "Epoch 12/20\n",
      "6660/6680 [============================>.] - ETA: 0s - loss: 4.7587 - acc: 0.0281Epoch 00011: val_loss improved from 4.77781 to 4.77666, saving model to saved_models/weights.best.from_scratch.hdf5\n",
      "6680/6680 [==============================] - 95s - loss: 4.7588 - acc: 0.0281 - val_loss: 4.7767 - val_acc: 0.0144\n",
      "Epoch 13/20\n",
      "6660/6680 [============================>.] - ETA: 0s - loss: 4.7567 - acc: 0.0278Epoch 00012: val_loss did not improve\n",
      "6680/6680 [==============================] - 97s - loss: 4.7561 - acc: 0.0278 - val_loss: 4.7888 - val_acc: 0.0216\n",
      "Epoch 14/20\n",
      "6660/6680 [============================>.] - ETA: 0s - loss: 4.7575 - acc: 0.0270Epoch 00013: val_loss did not improve\n",
      "6680/6680 [==============================] - 96s - loss: 4.7578 - acc: 0.0269 - val_loss: 4.7773 - val_acc: 0.0263\n",
      "Epoch 15/20\n",
      "6660/6680 [============================>.] - ETA: 0s - loss: 4.7533 - acc: 0.0263Epoch 00014: val_loss did not improve\n",
      "6680/6680 [==============================] - 96s - loss: 4.7532 - acc: 0.0263 - val_loss: 4.7850 - val_acc: 0.0240\n",
      "Epoch 16/20\n",
      "6660/6680 [============================>.] - ETA: 0s - loss: 4.7531 - acc: 0.0288Epoch 00015: val_loss did not improve\n",
      "6680/6680 [==============================] - 96s - loss: 4.7533 - acc: 0.0287 - val_loss: 4.7783 - val_acc: 0.0192\n",
      "Epoch 17/20\n",
      "6660/6680 [============================>.] - ETA: 0s - loss: 4.7511 - acc: 0.0317Epoch 00016: val_loss did not improve\n",
      "6680/6680 [==============================] - 96s - loss: 4.7509 - acc: 0.0319 - val_loss: 4.7840 - val_acc: 0.0216\n",
      "Epoch 18/20\n",
      "6660/6680 [============================>.] - ETA: 0s - loss: 4.7468 - acc: 0.0284Epoch 00017: val_loss improved from 4.77666 to 4.75360, saving model to saved_models/weights.best.from_scratch.hdf5\n",
      "6680/6680 [==============================] - 96s - loss: 4.7470 - acc: 0.0283 - val_loss: 4.7536 - val_acc: 0.0299\n",
      "Epoch 19/20\n",
      "6660/6680 [============================>.] - ETA: 0s - loss: 4.7430 - acc: 0.0281Epoch 00018: val_loss did not improve\n",
      "6680/6680 [==============================] - 97s - loss: 4.7428 - acc: 0.0281 - val_loss: 4.7722 - val_acc: 0.0287\n",
      "Epoch 20/20\n",
      "6660/6680 [============================>.] - ETA: 0s - loss: 4.7381 - acc: 0.0303Epoch 00019: val_loss improved from 4.75360 to 4.75342, saving model to saved_models/weights.best.from_scratch.hdf5\n",
      "6680/6680 [==============================] - 97s - loss: 4.7384 - acc: 0.0304 - val_loss: 4.7534 - val_acc: 0.0299\n"
     ]
    },
    {
     "data": {
      "text/plain": [
       "<keras.callbacks.History at 0x7f2a3e63da20>"
      ]
     },
     "execution_count": 26,
     "metadata": {},
     "output_type": "execute_result"
    }
   ],
   "source": [
    "\n",
    "\n",
    "### TODO: specify the number of epochs that you would like to use to train the model.\n",
    "\n",
    "epochs = 20\n",
    "\n",
    "### Do NOT modify the code below this line.\n",
    "\n",
    "checkpointer = ModelCheckpoint(filepath='saved_models/weights.best.from_scratch.hdf5', \n",
    "                               verbose=1, save_best_only=True)\n",
    "\n",
    "model.fit(train_tensors, train_targets, \n",
    "          validation_data=(valid_tensors, valid_targets),\n",
    "          epochs=epochs, batch_size=20, callbacks=[checkpointer], verbose=1)"
   ]
  },
  {
   "cell_type": "markdown",
   "metadata": {},
   "source": [
    "### Load the Model with the Best Validation Loss"
   ]
  },
  {
   "cell_type": "code",
   "execution_count": 65,
   "metadata": {
    "collapsed": true
   },
   "outputs": [],
   "source": [
    "model.load_weights('saved_models/weights.best.from_scratch.hdf5')"
   ]
  },
  {
   "cell_type": "markdown",
   "metadata": {},
   "source": [
    "### Test the Model\n",
    "\n",
    "Try out your model on the test dataset of dog images.  Ensure that your test accuracy is greater than 1%."
   ]
  },
  {
   "cell_type": "code",
   "execution_count": 66,
   "metadata": {},
   "outputs": [
    {
     "name": "stdout",
     "output_type": "stream",
     "text": [
      "Test accuracy: 2.9904%\n"
     ]
    }
   ],
   "source": [
    "# get index of predicted dog breed for each image in test set\n",
    "dog_breed_predictions = [np.argmax(model.predict(np.expand_dims(tensor, axis=0))) for tensor in test_tensors]\n",
    "\n",
    "# report test accuracy\n",
    "test_accuracy = 100*np.sum(np.array(dog_breed_predictions)==np.argmax(test_targets, axis=1))/len(dog_breed_predictions)\n",
    "print('Test accuracy: %.4f%%' % test_accuracy)"
   ]
  },
  {
   "cell_type": "markdown",
   "metadata": {},
   "source": [
    "---\n",
    "<a id='step4'></a>\n",
    "## Step 4: Use a CNN to Classify Dog Breeds\n",
    "\n",
    "To reduce training time without sacrificing accuracy, we show you how to train a CNN using transfer learning.  In the following step, you will get a chance to use transfer learning to train your own CNN.\n",
    "\n",
    "### Obtain Bottleneck Features"
   ]
  },
  {
   "cell_type": "code",
   "execution_count": null,
   "metadata": {
    "collapsed": true
   },
   "outputs": [],
   "source": []
  },
  {
   "cell_type": "code",
   "execution_count": 67,
   "metadata": {
    "collapsed": true
   },
   "outputs": [],
   "source": [
    "bottleneck_features = np.load('bottleneck_features/DogVGG16Data.npz')\n",
    "train_VGG16 = bottleneck_features['train']\n",
    "valid_VGG16 = bottleneck_features['valid']\n",
    "test_VGG16 = bottleneck_features['test']"
   ]
  },
  {
   "cell_type": "markdown",
   "metadata": {},
   "source": [
    "### Model Architecture\n",
    "\n",
    "The model uses the the pre-trained VGG-16 model as a fixed feature extractor, where the last convolutional output of VGG-16 is fed as input to our model.  We only add a global average pooling layer and a fully connected layer, where the latter contains one node for each dog category and is equipped with a softmax."
   ]
  },
  {
   "cell_type": "code",
   "execution_count": 68,
   "metadata": {},
   "outputs": [
    {
     "name": "stdout",
     "output_type": "stream",
     "text": [
      "_________________________________________________________________\n",
      "Layer (type)                 Output Shape              Param #   \n",
      "=================================================================\n",
      "global_average_pooling2d_5 ( (None, 512)               0         \n",
      "_________________________________________________________________\n",
      "dense_5 (Dense)              (None, 133)               68229     \n",
      "=================================================================\n",
      "Total params: 68,229.0\n",
      "Trainable params: 68,229.0\n",
      "Non-trainable params: 0.0\n",
      "_________________________________________________________________\n"
     ]
    }
   ],
   "source": [
    "VGG16_model = Sequential()\n",
    "VGG16_model.add(GlobalAveragePooling2D(input_shape=train_VGG16.shape[1:]))\n",
    "VGG16_model.add(Dense(133, activation='softmax'))\n",
    "\n",
    "VGG16_model.summary()"
   ]
  },
  {
   "cell_type": "markdown",
   "metadata": {},
   "source": [
    "### Compile the Model"
   ]
  },
  {
   "cell_type": "code",
   "execution_count": 69,
   "metadata": {
    "collapsed": true
   },
   "outputs": [],
   "source": [
    "VGG16_model.compile(loss='categorical_crossentropy', optimizer='rmsprop', metrics=['accuracy'])"
   ]
  },
  {
   "cell_type": "markdown",
   "metadata": {},
   "source": [
    "### Train the Model"
   ]
  },
  {
   "cell_type": "code",
   "execution_count": 28,
   "metadata": {},
   "outputs": [
    {
     "name": "stdout",
     "output_type": "stream",
     "text": [
      "Train on 6680 samples, validate on 835 samples\n",
      "Epoch 1/20\n",
      "6600/6680 [============================>.] - ETA: 0s - loss: 12.7127 - acc: 0.0762Epoch 00000: val_loss improved from inf to 10.72222, saving model to saved_models/weights.best.VGG16.hdf5\n",
      "6680/6680 [==============================] - 1s - loss: 12.6900 - acc: 0.0768 - val_loss: 10.7222 - val_acc: 0.1737\n",
      "Epoch 2/20\n",
      "6100/6680 [==========================>...] - ETA: 0s - loss: 9.7145 - acc: 0.2446Epoch 00001: val_loss improved from 10.72222 to 9.20588, saving model to saved_models/weights.best.VGG16.hdf5\n",
      "6680/6680 [==============================] - 0s - loss: 9.6341 - acc: 0.2515 - val_loss: 9.2059 - val_acc: 0.2874\n",
      "Epoch 3/20\n",
      "6000/6680 [=========================>....] - ETA: 0s - loss: 8.6248 - acc: 0.3547Epoch 00002: val_loss improved from 9.20588 to 8.72750, saving model to saved_models/weights.best.VGG16.hdf5\n",
      "6680/6680 [==============================] - 0s - loss: 8.6117 - acc: 0.3572 - val_loss: 8.7275 - val_acc: 0.3257\n",
      "Epoch 4/20\n",
      "6100/6680 [==========================>...] - ETA: 0s - loss: 8.1860 - acc: 0.4107Epoch 00003: val_loss improved from 8.72750 to 8.52415, saving model to saved_models/weights.best.VGG16.hdf5\n",
      "6680/6680 [==============================] - 0s - loss: 8.1876 - acc: 0.4124 - val_loss: 8.5242 - val_acc: 0.3617\n",
      "Epoch 5/20\n",
      "6500/6680 [============================>.] - ETA: 0s - loss: 7.8605 - acc: 0.4525Epoch 00004: val_loss improved from 8.52415 to 8.34712, saving model to saved_models/weights.best.VGG16.hdf5\n",
      "6680/6680 [==============================] - 0s - loss: 7.8903 - acc: 0.4504 - val_loss: 8.3471 - val_acc: 0.3713\n",
      "Epoch 6/20\n",
      "6100/6680 [==========================>...] - ETA: 0s - loss: 7.7262 - acc: 0.4782Epoch 00005: val_loss improved from 8.34712 to 8.34077, saving model to saved_models/weights.best.VGG16.hdf5\n",
      "6680/6680 [==============================] - 0s - loss: 7.7631 - acc: 0.4760 - val_loss: 8.3408 - val_acc: 0.3832\n",
      "Epoch 7/20\n",
      "5900/6680 [=========================>....] - ETA: 0s - loss: 7.6804 - acc: 0.4941Epoch 00006: val_loss improved from 8.34077 to 8.29464, saving model to saved_models/weights.best.VGG16.hdf5\n",
      "6680/6680 [==============================] - 0s - loss: 7.6792 - acc: 0.4927 - val_loss: 8.2946 - val_acc: 0.3952\n",
      "Epoch 8/20\n",
      "6300/6680 [===========================>..] - ETA: 0s - loss: 7.6380 - acc: 0.5043Epoch 00007: val_loss improved from 8.29464 to 8.19944, saving model to saved_models/weights.best.VGG16.hdf5\n",
      "6680/6680 [==============================] - 0s - loss: 7.6299 - acc: 0.5048 - val_loss: 8.1994 - val_acc: 0.4096\n",
      "Epoch 9/20\n",
      "6200/6680 [==========================>...] - ETA: 0s - loss: 7.5857 - acc: 0.5176Epoch 00008: val_loss improved from 8.19944 to 8.17872, saving model to saved_models/weights.best.VGG16.hdf5\n",
      "6680/6680 [==============================] - 0s - loss: 7.6051 - acc: 0.5160 - val_loss: 8.1787 - val_acc: 0.4036\n",
      "Epoch 10/20\n",
      "6500/6680 [============================>.] - ETA: 0s - loss: 7.5724 - acc: 0.5220Epoch 00009: val_loss did not improve\n",
      "6680/6680 [==============================] - 0s - loss: 7.5814 - acc: 0.5214 - val_loss: 8.1837 - val_acc: 0.4084\n",
      "Epoch 11/20\n",
      "6600/6680 [============================>.] - ETA: 0s - loss: 7.5662 - acc: 0.5245Epoch 00010: val_loss improved from 8.17872 to 8.14465, saving model to saved_models/weights.best.VGG16.hdf5\n",
      "6680/6680 [==============================] - 0s - loss: 7.5723 - acc: 0.5243 - val_loss: 8.1447 - val_acc: 0.4240\n",
      "Epoch 12/20\n",
      "6200/6680 [==========================>...] - ETA: 0s - loss: 7.5571 - acc: 0.5277Epoch 00011: val_loss did not improve\n",
      "6680/6680 [==============================] - 0s - loss: 7.5624 - acc: 0.5277 - val_loss: 8.1775 - val_acc: 0.4263\n",
      "Epoch 13/20\n",
      "6000/6680 [=========================>....] - ETA: 0s - loss: 7.5095 - acc: 0.5318Epoch 00012: val_loss did not improve\n",
      "6680/6680 [==============================] - 0s - loss: 7.5572 - acc: 0.5287 - val_loss: 8.1562 - val_acc: 0.4251\n",
      "Epoch 14/20\n",
      "6000/6680 [=========================>....] - ETA: 0s - loss: 7.5123 - acc: 0.5325Epoch 00013: val_loss did not improve\n",
      "6680/6680 [==============================] - 0s - loss: 7.5502 - acc: 0.5299 - val_loss: 8.1603 - val_acc: 0.4216\n",
      "Epoch 15/20\n",
      "6600/6680 [============================>.] - ETA: 0s - loss: 7.5155 - acc: 0.5264Epoch 00014: val_loss improved from 8.14465 to 8.05341, saving model to saved_models/weights.best.VGG16.hdf5\n",
      "6680/6680 [==============================] - 0s - loss: 7.5145 - acc: 0.5265 - val_loss: 8.0534 - val_acc: 0.4347\n",
      "Epoch 16/20\n",
      "5900/6680 [=========================>....] - ETA: 0s - loss: 7.5289 - acc: 0.5285Epoch 00015: val_loss improved from 8.05341 to 8.00551, saving model to saved_models/weights.best.VGG16.hdf5\n",
      "6680/6680 [==============================] - 0s - loss: 7.4809 - acc: 0.5314 - val_loss: 8.0055 - val_acc: 0.4335\n",
      "Epoch 17/20\n",
      "6200/6680 [==========================>...] - ETA: 0s - loss: 7.4213 - acc: 0.5318Epoch 00016: val_loss improved from 8.00551 to 7.95603, saving model to saved_models/weights.best.VGG16.hdf5\n",
      "6680/6680 [==============================] - 0s - loss: 7.3858 - acc: 0.5341 - val_loss: 7.9560 - val_acc: 0.4347\n",
      "Epoch 18/20\n",
      "5900/6680 [=========================>....] - ETA: 0s - loss: 7.3599 - acc: 0.5397Epoch 00017: val_loss improved from 7.95603 to 7.91821, saving model to saved_models/weights.best.VGG16.hdf5\n",
      "6680/6680 [==============================] - 0s - loss: 7.3541 - acc: 0.5400 - val_loss: 7.9182 - val_acc: 0.4431\n",
      "Epoch 19/20\n",
      "6000/6680 [=========================>....] - ETA: 0s - loss: 7.3443 - acc: 0.5368Epoch 00018: val_loss improved from 7.91821 to 7.79725, saving model to saved_models/weights.best.VGG16.hdf5\n",
      "6680/6680 [==============================] - 0s - loss: 7.3053 - acc: 0.5386 - val_loss: 7.7973 - val_acc: 0.4491\n",
      "Epoch 20/20\n",
      "5900/6680 [=========================>....] - ETA: 0s - loss: 7.1194 - acc: 0.5415Epoch 00019: val_loss improved from 7.79725 to 7.62482, saving model to saved_models/weights.best.VGG16.hdf5\n",
      "6680/6680 [==============================] - 0s - loss: 7.0865 - acc: 0.5439 - val_loss: 7.6248 - val_acc: 0.4503\n"
     ]
    },
    {
     "data": {
      "text/plain": [
       "<keras.callbacks.History at 0x7fd4907e0cf8>"
      ]
     },
     "execution_count": 28,
     "metadata": {},
     "output_type": "execute_result"
    }
   ],
   "source": [
    "checkpointer = ModelCheckpoint(filepath='saved_models/weights.best.VGG16.hdf5', \n",
    "                               verbose=1, save_best_only=True)\n",
    "\n",
    "VGG16_model.fit(train_VGG16, train_targets, \n",
    "          validation_data=(valid_VGG16, valid_targets),\n",
    "          epochs=20, batch_size=100, callbacks=[checkpointer], verbose=1)"
   ]
  },
  {
   "cell_type": "markdown",
   "metadata": {},
   "source": [
    "### Load the Model with the Best Validation Loss"
   ]
  },
  {
   "cell_type": "code",
   "execution_count": 70,
   "metadata": {
    "collapsed": true
   },
   "outputs": [],
   "source": [
    "VGG16_model.load_weights('saved_models/weights.best.VGG16.hdf5')"
   ]
  },
  {
   "cell_type": "markdown",
   "metadata": {},
   "source": [
    "### Test the Model\n",
    "\n",
    "Now, we can use the CNN to test how well it identifies breed within our test dataset of dog images.  We print the test accuracy below."
   ]
  },
  {
   "cell_type": "code",
   "execution_count": 71,
   "metadata": {},
   "outputs": [
    {
     "name": "stdout",
     "output_type": "stream",
     "text": [
      "Test accuracy: 43.6603%\n"
     ]
    }
   ],
   "source": [
    "# get index of predicted dog breed for each image in test set\n",
    "VGG16_predictions = [np.argmax(VGG16_model.predict(np.expand_dims(feature, axis=0))) for feature in test_VGG16]\n",
    "\n",
    "# report test accuracy\n",
    "test_accuracy = 100*np.sum(np.array(VGG16_predictions)==np.argmax(test_targets, axis=1))/len(VGG16_predictions)\n",
    "print('Test accuracy: %.4f%%' % test_accuracy)"
   ]
  },
  {
   "cell_type": "markdown",
   "metadata": {},
   "source": [
    "### Predict Dog Breed with the Model"
   ]
  },
  {
   "cell_type": "code",
   "execution_count": 72,
   "metadata": {
    "collapsed": true
   },
   "outputs": [],
   "source": [
    "from extract_bottleneck_features import *\n",
    "\n",
    "def VGG16_predict_breed(img_path):\n",
    "    # extract bottleneck features\n",
    "    bottleneck_feature = extract_VGG16(path_to_tensor(img_path))\n",
    "    # obtain predicted vector\n",
    "    predicted_vector = VGG16_model.predict(bottleneck_feature)\n",
    "    # return dog breed that is predicted by the model\n",
    "    return dog_names[np.argmax(predicted_vector)]"
   ]
  },
  {
   "cell_type": "markdown",
   "metadata": {},
   "source": [
    "---\n",
    "<a id='step5'></a>\n",
    "## Step 5: Create a CNN to Classify Dog Breeds (using Transfer Learning)\n",
    "\n",
    "You will now use transfer learning to create a CNN that can identify dog breed from images.  Your CNN must attain at least 60% accuracy on the test set.\n",
    "\n",
    "In Step 4, we used transfer learning to create a CNN using VGG-16 bottleneck features.  In this section, you must use the bottleneck features from a different pre-trained model.  To make things easier for you, we have pre-computed the features for all of the networks that are currently available in Keras:\n",
    "- [VGG-19](https://s3-us-west-1.amazonaws.com/udacity-aind/dog-project/DogVGG19Data.npz) bottleneck features\n",
    "- [ResNet-50](https://s3-us-west-1.amazonaws.com/udacity-aind/dog-project/DogResnet50Data.npz) bottleneck features\n",
    "- [Inception](https://s3-us-west-1.amazonaws.com/udacity-aind/dog-project/DogInceptionV3Data.npz) bottleneck features\n",
    "- [Xception](https://s3-us-west-1.amazonaws.com/udacity-aind/dog-project/DogXceptionData.npz) bottleneck features\n",
    "\n",
    "The files are encoded as such:\n",
    "\n",
    "    Dog{network}Data.npz\n",
    "    \n",
    "where `{network}`, in the above filename, can be one of `VGG19`, `Resnet50`, `InceptionV3`, or `Xception`.  Pick one of the above architectures, download the corresponding bottleneck features, and store the downloaded file in the `bottleneck_features/` folder in the repository.\n",
    "\n",
    "### (IMPLEMENTATION) Obtain Bottleneck Features\n",
    "\n",
    "In the code block below, extract the bottleneck features corresponding to the train, test, and validation sets by running the following:\n",
    "\n",
    "    bottleneck_features = np.load('bottleneck_features/Dog{network}Data.npz')\n",
    "    train_VGG19 = bottleneck_features['train']\n",
    "    valid_VGG19 = bottleneck_features['valid']\n",
    "    test_VGG19 = bottleneck_features['test']"
   ]
  },
  {
   "cell_type": "code",
   "execution_count": 36,
   "metadata": {
    "collapsed": true
   },
   "outputs": [],
   "source": [
    "from keras import regularizers"
   ]
  },
  {
   "cell_type": "code",
   "execution_count": 33,
   "metadata": {
    "collapsed": true
   },
   "outputs": [],
   "source": [
    "### TODO: Obtain bottleneck features from another pre-trained CNN.\n",
    "bottleneck_features = np.load('bottleneck_features/DogVGG19Data.npz')\n",
    "train_VGG19 = bottleneck_features['train']\n",
    "valid_VGG19 = bottleneck_features['valid']\n",
    "test_VGG19 = bottleneck_features['test']"
   ]
  },
  {
   "cell_type": "markdown",
   "metadata": {},
   "source": [
    "### (IMPLEMENTATION) Model Architecture\n",
    "\n",
    "Create a CNN to classify dog breed.  At the end of your code cell block, summarize the layers of your model by executing the line:\n",
    "    \n",
    "        <your model's name>.summary()\n",
    "   \n",
    "__Question 5:__ Outline the steps you took to get to your final CNN architecture and your reasoning at each step.  Describe why you think the architecture is suitable for the current problem.\n",
    "\n",
    "__Answer:__ \n",
    "Initialy i tried to change paramaters like batch size and epoch to increase accuracy using Both VGG16 and VGG19 but faild to bring the accuracy beyond 54% so I decided to add further layer of basic Conv Net two layer convolution to the output of VGG19  features. Due to this approach i was able to cross cutoff accuracy bench mark but i find it still a mystery as why this new architecture is training so fast compared to previous  cnn architecture without transfer learning. One problem i see with current approach is huge difference between validation accuracy and training accuracy as suggested by reviewer we need to add regularization to overcome that. \n"
   ]
  },
  {
   "cell_type": "code",
   "execution_count": 37,
   "metadata": {},
   "outputs": [
    {
     "name": "stdout",
     "output_type": "stream",
     "text": [
      "_________________________________________________________________\n",
      "Layer (type)                 Output Shape              Param #   \n",
      "=================================================================\n",
      "conv2d_76 (Conv2D)           (None, 6, 6, 64)          131136    \n",
      "_________________________________________________________________\n",
      "max_pooling2d_75 (MaxPooling (None, 3, 3, 64)          0         \n",
      "_________________________________________________________________\n",
      "activation_22 (Activation)   (None, 3, 3, 64)          0         \n",
      "_________________________________________________________________\n",
      "global_average_pooling2d_24  (None, 64)                0         \n",
      "_________________________________________________________________\n",
      "activation_23 (Activation)   (None, 64)                0         \n",
      "_________________________________________________________________\n",
      "dense_23 (Dense)             (None, 133)               8645      \n",
      "=================================================================\n",
      "Total params: 139,781.0\n",
      "Trainable params: 139,781.0\n",
      "Non-trainable params: 0.0\n",
      "_________________________________________________________________\n"
     ]
    }
   ],
   "source": [
    "### TODO: Define your architecture.\n",
    "VGG19_model = Sequential()\n",
    "VGG19_model.add(Convolution2D(64, (2, 2),input_shape=train_VGG19.shape[1:], padding=\"valid\"))\n",
    "VGG19_model.add(MaxPooling2D(pool_size=(2,2), strides=None, padding='valid' ))\n",
    "VGG19_model.add(Activation(\"relu\"))\n",
    "VGG19_model.add(GlobalAveragePooling2D(data_format=None))\n",
    "VGG19_model.add(Activation(\"relu\"))\n",
    "\n",
    "VGG19_model.add(Dense(133, activation='softmax', kernel_regularizer=regularizers.l2(0.01),\n",
    "                activity_regularizer=regularizers.l1(0.01)))\n",
    "\n",
    "VGG19_model.summary()"
   ]
  },
  {
   "cell_type": "markdown",
   "metadata": {},
   "source": [
    "### (IMPLEMENTATION) Compile the Model"
   ]
  },
  {
   "cell_type": "code",
   "execution_count": 76,
   "metadata": {
    "collapsed": true
   },
   "outputs": [],
   "source": [
    "from keras import optimizers\n",
    "ada=optimizers.Adagrad(lr=0.01, epsilon=1e-08, decay=0.0)\n"
   ]
  },
  {
   "cell_type": "code",
   "execution_count": 77,
   "metadata": {
    "collapsed": true
   },
   "outputs": [],
   "source": [
    "### TODO: Compile the model.\n",
    "VGG19_model.compile(loss='categorical_crossentropy', optimizer='Adagrad', metrics=['accuracy'])"
   ]
  },
  {
   "cell_type": "markdown",
   "metadata": {},
   "source": [
    "### (IMPLEMENTATION) Train the Model\n",
    "\n",
    "Train your model in the code cell below.  Use model checkpointing to save the model that attains the best validation loss.  \n",
    "\n",
    "You are welcome to [augment the training data](https://blog.keras.io/building-powerful-image-classification-models-using-very-little-data.html), but this is not a requirement. "
   ]
  },
  {
   "cell_type": "code",
   "execution_count": 30,
   "metadata": {},
   "outputs": [
    {
     "name": "stdout",
     "output_type": "stream",
     "text": [
      "Train on 6680 samples, validate on 835 samples\n",
      "Epoch 1/200\n",
      "6500/6680 [============================>.] - ETA: 0s - loss: 16.4932 - acc: 0.0389Epoch 00000: val_loss improved from inf to 16.47603, saving model to saved_models/weights.best.VGG19.hdf5\n",
      "6680/6680 [==============================] - 2s - loss: 16.5005 - acc: 0.0383 - val_loss: 16.4760 - val_acc: 0.0383\n",
      "Epoch 2/200\n",
      "6500/6680 [============================>.] - ETA: 0s - loss: 16.4957 - acc: 0.0388Epoch 00001: val_loss improved from 16.47603 to 16.47603, saving model to saved_models/weights.best.VGG19.hdf5\n",
      "6680/6680 [==============================] - 2s - loss: 16.5005 - acc: 0.0383 - val_loss: 16.4760 - val_acc: 0.0383\n",
      "Epoch 3/200\n",
      "6600/6680 [============================>.] - ETA: 0s - loss: 16.5003 - acc: 0.0385Epoch 00002: val_loss improved from 16.47603 to 16.47601, saving model to saved_models/weights.best.VGG19.hdf5\n",
      "6680/6680 [==============================] - 3s - loss: 16.5005 - acc: 0.0383 - val_loss: 16.4760 - val_acc: 0.0383\n",
      "Epoch 4/200\n",
      "6500/6680 [============================>.] - ETA: 0s - loss: 16.5056 - acc: 0.0382Epoch 00003: val_loss improved from 16.47601 to 16.47600, saving model to saved_models/weights.best.VGG19.hdf5\n",
      "6680/6680 [==============================] - 2s - loss: 16.5005 - acc: 0.0383 - val_loss: 16.4760 - val_acc: 0.0383\n",
      "Epoch 5/200\n",
      "6500/6680 [============================>.] - ETA: 0s - loss: 16.5081 - acc: 0.0380Epoch 00004: val_loss improved from 16.47600 to 16.47599, saving model to saved_models/weights.best.VGG19.hdf5\n",
      "6680/6680 [==============================] - 2s - loss: 16.5005 - acc: 0.0383 - val_loss: 16.4760 - val_acc: 0.0383\n",
      "Epoch 6/200\n",
      "6600/6680 [============================>.] - ETA: 0s - loss: 16.5051 - acc: 0.0382Epoch 00005: val_loss improved from 16.47599 to 16.47597, saving model to saved_models/weights.best.VGG19.hdf5\n",
      "6680/6680 [==============================] - 2s - loss: 16.5005 - acc: 0.0383 - val_loss: 16.4760 - val_acc: 0.0383\n",
      "Epoch 7/200\n",
      "6500/6680 [============================>.] - ETA: 0s - loss: 16.4848 - acc: 0.0385Epoch 00006: val_loss improved from 16.47597 to 16.34407, saving model to saved_models/weights.best.VGG19.hdf5\n",
      "6680/6680 [==============================] - 2s - loss: 16.4778 - acc: 0.0388 - val_loss: 16.3441 - val_acc: 0.0443\n",
      "Epoch 8/200\n",
      "6500/6680 [============================>.] - ETA: 0s - loss: 16.3505 - acc: 0.0475Epoch 00007: val_loss improved from 16.34407 to 16.34168, saving model to saved_models/weights.best.VGG19.hdf5\n",
      "6680/6680 [==============================] - 2s - loss: 16.3568 - acc: 0.0470 - val_loss: 16.3417 - val_acc: 0.0467\n",
      "Epoch 9/200\n",
      "6500/6680 [============================>.] - ETA: 0s - loss: 16.3313 - acc: 0.0480Epoch 00008: val_loss improved from 16.34168 to 16.24928, saving model to saved_models/weights.best.VGG19.hdf5\n",
      "6680/6680 [==============================] - 2s - loss: 16.3294 - acc: 0.0478 - val_loss: 16.2493 - val_acc: 0.0467\n",
      "Epoch 10/200\n",
      "6600/6680 [============================>.] - ETA: 0s - loss: 16.2496 - acc: 0.0529Epoch 00009: val_loss improved from 16.24928 to 16.22135, saving model to saved_models/weights.best.VGG19.hdf5\n",
      "6680/6680 [==============================] - 2s - loss: 16.2407 - acc: 0.0533 - val_loss: 16.2213 - val_acc: 0.0527\n",
      "Epoch 11/200\n",
      "6500/6680 [============================>.] - ETA: 0s - loss: 14.4875 - acc: 0.0649Epoch 00010: val_loss improved from 16.22135 to 4.45825, saving model to saved_models/weights.best.VGG19.hdf5\n",
      "6680/6680 [==============================] - 2s - loss: 14.2257 - acc: 0.0672 - val_loss: 4.4583 - val_acc: 0.2108\n",
      "Epoch 12/200\n",
      "6500/6680 [============================>.] - ETA: 0s - loss: 2.6347 - acc: 0.5574Epoch 00011: val_loss improved from 4.45825 to 2.17111, saving model to saved_models/weights.best.VGG19.hdf5\n",
      "6680/6680 [==============================] - 2s - loss: 2.6152 - acc: 0.5612 - val_loss: 2.1711 - val_acc: 0.6455\n",
      "Epoch 13/200\n",
      "6500/6680 [============================>.] - ETA: 0s - loss: 1.7413 - acc: 0.7874Epoch 00012: val_loss improved from 2.17111 to 1.93826, saving model to saved_models/weights.best.VGG19.hdf5\n",
      "6680/6680 [==============================] - 2s - loss: 1.7383 - acc: 0.7871 - val_loss: 1.9383 - val_acc: 0.7317\n",
      "Epoch 14/200\n",
      "6500/6680 [============================>.] - ETA: 0s - loss: 1.5070 - acc: 0.8612Epoch 00013: val_loss improved from 1.93826 to 1.85804, saving model to saved_models/weights.best.VGG19.hdf5\n",
      "6680/6680 [==============================] - 2s - loss: 1.5038 - acc: 0.8617 - val_loss: 1.8580 - val_acc: 0.7617\n",
      "Epoch 15/200\n",
      "6500/6680 [============================>.] - ETA: 0s - loss: 1.3758 - acc: 0.9086Epoch 00014: val_loss improved from 1.85804 to 1.85789, saving model to saved_models/weights.best.VGG19.hdf5\n",
      "6680/6680 [==============================] - 2s - loss: 1.3753 - acc: 0.9076 - val_loss: 1.8579 - val_acc: 0.7581\n",
      "Epoch 16/200\n",
      "6500/6680 [============================>.] - ETA: 0s - loss: 1.2805 - acc: 0.9448Epoch 00015: val_loss did not improve\n",
      "6680/6680 [==============================] - 2s - loss: 1.2803 - acc: 0.9443 - val_loss: 1.8751 - val_acc: 0.7617\n",
      "Epoch 17/200\n",
      "6500/6680 [============================>.] - ETA: 0s - loss: 1.2281 - acc: 0.9640Epoch 00016: val_loss improved from 1.85789 to 1.84578, saving model to saved_models/weights.best.VGG19.hdf5\n",
      "6680/6680 [==============================] - 2s - loss: 1.2268 - acc: 0.9639 - val_loss: 1.8458 - val_acc: 0.7808\n",
      "Epoch 18/200\n",
      "6500/6680 [============================>.] - ETA: 0s - loss: 1.1871 - acc: 0.9808Epoch 00017: val_loss did not improve\n",
      "6680/6680 [==============================] - 2s - loss: 1.1845 - acc: 0.9805 - val_loss: 1.8632 - val_acc: 0.7701\n",
      "Epoch 19/200\n",
      "6500/6680 [============================>.] - ETA: 0s - loss: 1.1572 - acc: 0.9888Epoch 00018: val_loss did not improve\n",
      "6680/6680 [==============================] - 2s - loss: 1.1546 - acc: 0.9889 - val_loss: 1.8573 - val_acc: 0.7713\n",
      "Epoch 20/200\n",
      "6500/6680 [============================>.] - ETA: 0s - loss: 1.1407 - acc: 0.9935Epoch 00019: val_loss did not improve\n",
      "6680/6680 [==============================] - 2s - loss: 1.1386 - acc: 0.9936 - val_loss: 1.8676 - val_acc: 0.7772\n",
      "Epoch 21/200\n",
      "6500/6680 [============================>.] - ETA: 0s - loss: 1.1272 - acc: 0.9958Epoch 00020: val_loss did not improve\n",
      "6680/6680 [==============================] - 2s - loss: 1.1249 - acc: 0.9958 - val_loss: 1.8606 - val_acc: 0.7749\n",
      "Epoch 22/200\n",
      "6600/6680 [============================>.] - ETA: 0s - loss: 1.1174 - acc: 0.9971Epoch 00021: val_loss did not improve\n",
      "6680/6680 [==============================] - 3s - loss: 1.1151 - acc: 0.9972 - val_loss: 1.8731 - val_acc: 0.7760\n",
      "Epoch 23/200\n",
      "6500/6680 [============================>.] - ETA: 0s - loss: 1.1104 - acc: 0.9980Epoch 00022: val_loss did not improve\n",
      "6680/6680 [==============================] - 2s - loss: 1.1078 - acc: 0.9979 - val_loss: 1.8709 - val_acc: 0.7868\n",
      "Epoch 24/200\n",
      "6500/6680 [============================>.] - ETA: 0s - loss: 1.1059 - acc: 0.9974Epoch 00023: val_loss did not improve\n",
      "6680/6680 [==============================] - 2s - loss: 1.1036 - acc: 0.9973 - val_loss: 1.8971 - val_acc: 0.7868\n",
      "Epoch 25/200\n",
      "6500/6680 [============================>.] - ETA: 0s - loss: 1.1004 - acc: 0.9982Epoch 00024: val_loss did not improve\n",
      "6680/6680 [==============================] - 2s - loss: 1.0979 - acc: 0.9982 - val_loss: 1.8688 - val_acc: 0.7796\n",
      "Epoch 26/200\n",
      "6500/6680 [============================>.] - ETA: 0s - loss: 1.0945 - acc: 0.9986Epoch 00025: val_loss did not improve\n",
      "6680/6680 [==============================] - 2s - loss: 1.0927 - acc: 0.9985 - val_loss: 1.8976 - val_acc: 0.7796\n",
      "Epoch 27/200\n",
      "6600/6680 [============================>.] - ETA: 0s - loss: 1.0943 - acc: 0.9980Epoch 00026: val_loss did not improve\n",
      "6680/6680 [==============================] - 2s - loss: 1.0918 - acc: 0.9981 - val_loss: 1.8797 - val_acc: 0.7856\n",
      "Epoch 28/200\n",
      "6500/6680 [============================>.] - ETA: 0s - loss: 1.0907 - acc: 0.9978Epoch 00027: val_loss did not improve\n",
      "6680/6680 [==============================] - 2s - loss: 1.0884 - acc: 0.9978 - val_loss: 1.8896 - val_acc: 0.7808\n",
      "Epoch 29/200\n",
      "6500/6680 [============================>.] - ETA: 0s - loss: 1.0875 - acc: 0.9980Epoch 00028: val_loss did not improve\n",
      "6680/6680 [==============================] - 2s - loss: 1.0859 - acc: 0.9978 - val_loss: 1.8802 - val_acc: 0.7892\n",
      "Epoch 30/200\n",
      "6600/6680 [============================>.] - ETA: 0s - loss: 1.0848 - acc: 0.9986Epoch 00029: val_loss did not improve\n",
      "6680/6680 [==============================] - 2s - loss: 1.0824 - acc: 0.9987 - val_loss: 1.8842 - val_acc: 0.7844\n",
      "Epoch 31/200\n",
      "6500/6680 [============================>.] - ETA: 0s - loss: 1.0833 - acc: 0.9980Epoch 00030: val_loss did not improve\n",
      "6680/6680 [==============================] - 2s - loss: 1.0808 - acc: 0.9981 - val_loss: 1.8793 - val_acc: 0.7880\n",
      "Epoch 32/200\n",
      "6600/6680 [============================>.] - ETA: 0s - loss: 1.0811 - acc: 0.9986Epoch 00031: val_loss did not improve\n",
      "6680/6680 [==============================] - 2s - loss: 1.0789 - acc: 0.9985 - val_loss: 1.8998 - val_acc: 0.7796\n",
      "Epoch 33/200\n",
      "6600/6680 [============================>.] - ETA: 0s - loss: 1.0799 - acc: 0.9983Epoch 00032: val_loss did not improve\n",
      "6680/6680 [==============================] - 2s - loss: 1.0774 - acc: 0.9984 - val_loss: 1.8791 - val_acc: 0.7772\n",
      "Epoch 34/200\n",
      "6600/6680 [============================>.] - ETA: 0s - loss: 1.0778 - acc: 0.9982Epoch 00033: val_loss did not improve\n",
      "6680/6680 [==============================] - 2s - loss: 1.0754 - acc: 0.9982 - val_loss: 1.8819 - val_acc: 0.7916\n",
      "Epoch 35/200\n",
      "6500/6680 [============================>.] - ETA: 0s - loss: 1.0767 - acc: 0.9985Epoch 00034: val_loss did not improve\n",
      "6680/6680 [==============================] - 2s - loss: 1.0742 - acc: 0.9985 - val_loss: 1.8876 - val_acc: 0.7844\n",
      "Epoch 36/200\n",
      "6500/6680 [============================>.] - ETA: 0s - loss: 1.0759 - acc: 0.9983Epoch 00035: val_loss did not improve\n",
      "6680/6680 [==============================] - 2s - loss: 1.0733 - acc: 0.9984 - val_loss: 1.8831 - val_acc: 0.7856\n",
      "Epoch 37/200\n",
      "6600/6680 [============================>.] - ETA: 0s - loss: 1.0735 - acc: 0.9989Epoch 00036: val_loss did not improve\n",
      "6680/6680 [==============================] - 2s - loss: 1.0711 - acc: 0.9990 - val_loss: 1.8887 - val_acc: 0.7856\n",
      "Epoch 38/200\n",
      "6500/6680 [============================>.] - ETA: 0s - loss: 1.0738 - acc: 0.9980Epoch 00037: val_loss did not improve\n",
      "6680/6680 [==============================] - 2s - loss: 1.0713 - acc: 0.9981 - val_loss: 1.8749 - val_acc: 0.7904\n",
      "Epoch 39/200\n",
      "6600/6680 [============================>.] - ETA: 0s - loss: 1.0724 - acc: 0.9980Epoch 00038: val_loss did not improve\n",
      "6680/6680 [==============================] - 2s - loss: 1.0700 - acc: 0.9981 - val_loss: 1.8884 - val_acc: 0.7892\n",
      "Epoch 40/200\n",
      "6500/6680 [============================>.] - ETA: 0s - loss: 1.0715 - acc: 0.9978Epoch 00039: val_loss did not improve\n",
      "6680/6680 [==============================] - 2s - loss: 1.0690 - acc: 0.9979 - val_loss: 1.8823 - val_acc: 0.7880\n",
      "Epoch 41/200\n",
      "6500/6680 [============================>.] - ETA: 0s - loss: 1.0699 - acc: 0.9986Epoch 00040: val_loss did not improve\n",
      "6680/6680 [==============================] - 2s - loss: 1.0674 - acc: 0.9987 - val_loss: 1.8826 - val_acc: 0.7832\n",
      "Epoch 42/200\n",
      "6500/6680 [============================>.] - ETA: 0s - loss: 1.0694 - acc: 0.9985Epoch 00041: val_loss did not improve\n",
      "6680/6680 [==============================] - 2s - loss: 1.0669 - acc: 0.9985 - val_loss: 1.8764 - val_acc: 0.7808\n",
      "Epoch 43/200\n",
      "6600/6680 [============================>.] - ETA: 0s - loss: 1.0676 - acc: 0.9988Epoch 00042: val_loss did not improve\n",
      "6680/6680 [==============================] - 3s - loss: 1.0652 - acc: 0.9988 - val_loss: 1.8824 - val_acc: 0.7940\n",
      "Epoch 44/200\n",
      "6600/6680 [============================>.] - ETA: 0s - loss: 1.0665 - acc: 0.9988Epoch 00043: val_loss did not improve\n",
      "6680/6680 [==============================] - 3s - loss: 1.0646 - acc: 0.9985 - val_loss: 1.8849 - val_acc: 0.7820\n",
      "Epoch 45/200\n",
      "6500/6680 [============================>.] - ETA: 0s - loss: 1.0663 - acc: 0.9986Epoch 00044: val_loss did not improve\n",
      "6680/6680 [==============================] - 2s - loss: 1.0638 - acc: 0.9987 - val_loss: 1.8763 - val_acc: 0.7940\n",
      "Epoch 46/200\n",
      "6500/6680 [============================>.] - ETA: 0s - loss: 1.0652 - acc: 0.9983Epoch 00045: val_loss did not improve\n",
      "6680/6680 [==============================] - 2s - loss: 1.0627 - acc: 0.9984 - val_loss: 1.8816 - val_acc: 0.7940\n",
      "Epoch 47/200\n",
      "6500/6680 [============================>.] - ETA: 0s - loss: 1.0649 - acc: 0.9982Epoch 00046: val_loss did not improve\n",
      "6680/6680 [==============================] - 2s - loss: 1.0624 - acc: 0.9982 - val_loss: 1.8669 - val_acc: 0.7796\n",
      "Epoch 48/200\n",
      "6500/6680 [============================>.] - ETA: 0s - loss: 1.0639 - acc: 0.9985Epoch 00047: val_loss did not improve\n",
      "6680/6680 [==============================] - 2s - loss: 1.0614 - acc: 0.9985 - val_loss: 1.8695 - val_acc: 0.7916\n",
      "Epoch 49/200\n",
      "6500/6680 [============================>.] - ETA: 0s - loss: 1.0617 - acc: 0.9989Epoch 00048: val_loss did not improve\n",
      "6680/6680 [==============================] - 2s - loss: 1.0597 - acc: 0.9988 - val_loss: 1.8792 - val_acc: 0.7904\n",
      "Epoch 50/200\n",
      "6500/6680 [============================>.] - ETA: 0s - loss: 1.0616 - acc: 0.9986Epoch 00049: val_loss did not improve\n",
      "6680/6680 [==============================] - 2s - loss: 1.0592 - acc: 0.9987 - val_loss: 1.8603 - val_acc: 0.7940\n",
      "Epoch 51/200\n",
      "6500/6680 [============================>.] - ETA: 0s - loss: 1.0617 - acc: 0.9985Epoch 00050: val_loss did not improve\n",
      "6680/6680 [==============================] - 2s - loss: 1.0592 - acc: 0.9985 - val_loss: 1.8626 - val_acc: 0.7916\n",
      "Epoch 52/200\n",
      "6600/6680 [============================>.] - ETA: 0s - loss: 1.0601 - acc: 0.9988Epoch 00051: val_loss did not improve\n",
      "6680/6680 [==============================] - 2s - loss: 1.0578 - acc: 0.9988 - val_loss: 1.8706 - val_acc: 0.7832\n",
      "Epoch 53/200\n",
      "6600/6680 [============================>.] - ETA: 0s - loss: 1.0597 - acc: 0.9988Epoch 00052: val_loss did not improve\n",
      "6680/6680 [==============================] - 2s - loss: 1.0573 - acc: 0.9988 - val_loss: 1.8740 - val_acc: 0.7904\n",
      "Epoch 54/200\n",
      "6500/6680 [============================>.] - ETA: 0s - loss: 1.0592 - acc: 0.9985Epoch 00053: val_loss did not improve\n",
      "6680/6680 [==============================] - 2s - loss: 1.0567 - acc: 0.9985 - val_loss: 1.8739 - val_acc: 0.7892\n",
      "Epoch 55/200\n",
      "6600/6680 [============================>.] - ETA: 0s - loss: 1.0586 - acc: 0.9986Epoch 00054: val_loss did not improve\n",
      "6680/6680 [==============================] - 2s - loss: 1.0562 - acc: 0.9987 - val_loss: 1.8677 - val_acc: 0.7940\n",
      "Epoch 56/200\n",
      "6500/6680 [============================>.] - ETA: 0s - loss: 1.0583 - acc: 0.9986Epoch 00055: val_loss did not improve\n",
      "6680/6680 [==============================] - 2s - loss: 1.0557 - acc: 0.9987 - val_loss: 1.8724 - val_acc: 0.7868\n",
      "Epoch 57/200\n",
      "6600/6680 [============================>.] - ETA: 0s - loss: 1.0582 - acc: 0.9985Epoch 00056: val_loss did not improve\n",
      "6680/6680 [==============================] - 3s - loss: 1.0557 - acc: 0.9985 - val_loss: 1.8691 - val_acc: 0.7904\n",
      "Epoch 58/200\n",
      "6500/6680 [============================>.] - ETA: 0s - loss: 1.0567 - acc: 0.9985Epoch 00057: val_loss did not improve\n",
      "6680/6680 [==============================] - 2s - loss: 1.0543 - acc: 0.9985 - val_loss: 1.8617 - val_acc: 0.7904\n",
      "Epoch 59/200\n",
      "6500/6680 [============================>.] - ETA: 0s - loss: 1.0560 - acc: 0.9989Epoch 00058: val_loss did not improve\n",
      "6680/6680 [==============================] - 2s - loss: 1.0537 - acc: 0.9988 - val_loss: 1.8785 - val_acc: 0.7880\n",
      "Epoch 60/200\n",
      "6500/6680 [============================>.] - ETA: 0s - loss: 1.0555 - acc: 0.9989Epoch 00059: val_loss did not improve\n",
      "6680/6680 [==============================] - 3s - loss: 1.0533 - acc: 0.9988 - val_loss: 1.8785 - val_acc: 0.7844\n",
      "Epoch 61/200\n",
      "6600/6680 [============================>.] - ETA: 0s - loss: 1.0555 - acc: 0.9988Epoch 00060: val_loss did not improve\n",
      "6680/6680 [==============================] - 3s - loss: 1.0532 - acc: 0.9987 - val_loss: 1.8680 - val_acc: 0.7868\n",
      "Epoch 62/200\n"
     ]
    },
    {
     "name": "stdout",
     "output_type": "stream",
     "text": [
      "6500/6680 [============================>.] - ETA: 0s - loss: 1.0549 - acc: 0.9986Epoch 00061: val_loss did not improve\n",
      "6680/6680 [==============================] - 2s - loss: 1.0525 - acc: 0.9987 - val_loss: 1.8570 - val_acc: 0.7844\n",
      "Epoch 63/200\n",
      "6500/6680 [============================>.] - ETA: 0s - loss: 1.0544 - acc: 0.9986Epoch 00062: val_loss did not improve\n",
      "6680/6680 [==============================] - 2s - loss: 1.0520 - acc: 0.9987 - val_loss: 1.8601 - val_acc: 0.7868\n",
      "Epoch 64/200\n",
      "6500/6680 [============================>.] - ETA: 0s - loss: 1.0537 - acc: 0.9986Epoch 00063: val_loss did not improve\n",
      "6680/6680 [==============================] - 2s - loss: 1.0514 - acc: 0.9987 - val_loss: 1.8646 - val_acc: 0.7832\n",
      "Epoch 65/200\n",
      "6500/6680 [============================>.] - ETA: 0s - loss: 1.0541 - acc: 0.9983Epoch 00064: val_loss did not improve\n",
      "6680/6680 [==============================] - 2s - loss: 1.0517 - acc: 0.9984 - val_loss: 1.8748 - val_acc: 0.7940\n",
      "Epoch 66/200\n",
      "6500/6680 [============================>.] - ETA: 0s - loss: 1.0534 - acc: 0.9988Epoch 00065: val_loss did not improve\n",
      "6680/6680 [==============================] - 2s - loss: 1.0509 - acc: 0.9988 - val_loss: 1.8548 - val_acc: 0.7844\n",
      "Epoch 67/200\n",
      "6600/6680 [============================>.] - ETA: 0s - loss: 1.0533 - acc: 0.9985Epoch 00066: val_loss did not improve\n",
      "6680/6680 [==============================] - 2s - loss: 1.0508 - acc: 0.9985 - val_loss: 1.8561 - val_acc: 0.7928\n",
      "Epoch 68/200\n",
      "6600/6680 [============================>.] - ETA: 0s - loss: 1.0523 - acc: 0.9985Epoch 00067: val_loss did not improve\n",
      "6680/6680 [==============================] - 2s - loss: 1.0499 - acc: 0.9985 - val_loss: 1.8649 - val_acc: 0.7856\n",
      "Epoch 69/200\n",
      "6600/6680 [============================>.] - ETA: 0s - loss: 1.0518 - acc: 0.9986Epoch 00068: val_loss did not improve\n",
      "6680/6680 [==============================] - 3s - loss: 1.0494 - acc: 0.9987 - val_loss: 1.8626 - val_acc: 0.7916\n",
      "Epoch 70/200\n",
      "6600/6680 [============================>.] - ETA: 0s - loss: 1.0519 - acc: 0.9986Epoch 00069: val_loss did not improve\n",
      "6680/6680 [==============================] - 3s - loss: 1.0495 - acc: 0.9987 - val_loss: 1.8481 - val_acc: 0.7880\n",
      "Epoch 71/200\n",
      "6500/6680 [============================>.] - ETA: 0s - loss: 1.0506 - acc: 0.9986Epoch 00070: val_loss did not improve\n",
      "6680/6680 [==============================] - 2s - loss: 1.0482 - acc: 0.9987 - val_loss: 1.8539 - val_acc: 0.7880\n",
      "Epoch 72/200\n",
      "6500/6680 [============================>.] - ETA: 0s - loss: 1.0507 - acc: 0.9988Epoch 00071: val_loss did not improve\n",
      "6680/6680 [==============================] - 2s - loss: 1.0482 - acc: 0.9988 - val_loss: 1.8476 - val_acc: 0.7916\n",
      "Epoch 73/200\n",
      "6500/6680 [============================>.] - ETA: 0s - loss: 1.0499 - acc: 0.9989Epoch 00072: val_loss did not improve\n",
      "6680/6680 [==============================] - 2s - loss: 1.0475 - acc: 0.9990 - val_loss: 1.8565 - val_acc: 0.7892\n",
      "Epoch 74/200\n",
      "6500/6680 [============================>.] - ETA: 0s - loss: 1.0497 - acc: 0.9986Epoch 00073: val_loss did not improve\n",
      "6680/6680 [==============================] - 2s - loss: 1.0473 - acc: 0.9987 - val_loss: 1.8537 - val_acc: 0.7916\n",
      "Epoch 75/200\n",
      "6500/6680 [============================>.] - ETA: 0s - loss: 1.0490 - acc: 0.9989Epoch 00074: val_loss did not improve\n",
      "6680/6680 [==============================] - 2s - loss: 1.0471 - acc: 0.9987 - val_loss: 1.8700 - val_acc: 0.7892\n",
      "Epoch 76/200\n",
      "6500/6680 [============================>.] - ETA: 0s - loss: 1.0483 - acc: 0.9994Epoch 00075: val_loss improved from 1.84578 to 1.84276, saving model to saved_models/weights.best.VGG19.hdf5\n",
      "6680/6680 [==============================] - 2s - loss: 1.0461 - acc: 0.9993 - val_loss: 1.8428 - val_acc: 0.7904\n",
      "Epoch 77/200\n",
      "6500/6680 [============================>.] - ETA: 0s - loss: 1.0483 - acc: 0.9988Epoch 00076: val_loss did not improve\n",
      "6680/6680 [==============================] - 2s - loss: 1.0460 - acc: 0.9987 - val_loss: 1.8523 - val_acc: 0.7892\n",
      "Epoch 78/200\n",
      "6500/6680 [============================>.] - ETA: 0s - loss: 1.0480 - acc: 0.9988Epoch 00077: val_loss did not improve\n",
      "6680/6680 [==============================] - 2s - loss: 1.0456 - acc: 0.9988 - val_loss: 1.8466 - val_acc: 0.7904\n",
      "Epoch 79/200\n",
      "6500/6680 [============================>.] - ETA: 0s - loss: 1.0478 - acc: 0.9991Epoch 00078: val_loss did not improve\n",
      "6680/6680 [==============================] - 2s - loss: 1.0453 - acc: 0.9991 - val_loss: 1.8499 - val_acc: 0.7880\n",
      "Epoch 80/200\n",
      "6600/6680 [============================>.] - ETA: 0s - loss: 1.0477 - acc: 0.9988Epoch 00079: val_loss did not improve\n",
      "6680/6680 [==============================] - 3s - loss: 1.0453 - acc: 0.9988 - val_loss: 1.8521 - val_acc: 0.7904\n",
      "Epoch 81/200\n",
      "6500/6680 [============================>.] - ETA: 0s - loss: 1.0467 - acc: 0.9992Epoch 00080: val_loss did not improve\n",
      "6680/6680 [==============================] - 3s - loss: 1.0443 - acc: 0.9991 - val_loss: 1.8649 - val_acc: 0.7892\n",
      "Epoch 82/200\n",
      "6500/6680 [============================>.] - ETA: 0s - loss: 1.0475 - acc: 0.9983Epoch 00081: val_loss did not improve\n",
      "6680/6680 [==============================] - 2s - loss: 1.0451 - acc: 0.9984 - val_loss: 1.8476 - val_acc: 0.7856\n",
      "Epoch 83/200\n",
      "6500/6680 [============================>.] - ETA: 0s - loss: 1.0462 - acc: 0.9991Epoch 00082: val_loss did not improve\n",
      "6680/6680 [==============================] - 2s - loss: 1.0440 - acc: 0.9990 - val_loss: 1.8526 - val_acc: 0.7856\n",
      "Epoch 84/200\n",
      "6600/6680 [============================>.] - ETA: 0s - loss: 1.0461 - acc: 0.9989Epoch 00083: val_loss did not improve\n",
      "6680/6680 [==============================] - 2s - loss: 1.0437 - acc: 0.9990 - val_loss: 1.8577 - val_acc: 0.7892\n",
      "Epoch 85/200\n",
      "6500/6680 [============================>.] - ETA: 0s - loss: 1.0465 - acc: 0.9986Epoch 00084: val_loss improved from 1.84276 to 1.83894, saving model to saved_models/weights.best.VGG19.hdf5\n",
      "6680/6680 [==============================] - 2s - loss: 1.0441 - acc: 0.9987 - val_loss: 1.8389 - val_acc: 0.7904\n",
      "Epoch 86/200\n",
      "6500/6680 [============================>.] - ETA: 0s - loss: 1.0463 - acc: 0.9988Epoch 00085: val_loss did not improve\n",
      "6680/6680 [==============================] - 3s - loss: 1.0439 - acc: 0.9988 - val_loss: 1.8527 - val_acc: 0.7892\n",
      "Epoch 87/200\n",
      "6600/6680 [============================>.] - ETA: 0s - loss: 1.0458 - acc: 0.9988Epoch 00086: val_loss did not improve\n",
      "6680/6680 [==============================] - 2s - loss: 1.0434 - acc: 0.9988 - val_loss: 1.8447 - val_acc: 0.7868\n",
      "Epoch 88/200\n",
      "6500/6680 [============================>.] - ETA: 0s - loss: 1.0452 - acc: 0.9986Epoch 00087: val_loss did not improve\n",
      "6680/6680 [==============================] - 2s - loss: 1.0428 - acc: 0.9987 - val_loss: 1.8455 - val_acc: 0.7880\n",
      "Epoch 89/200\n",
      "6500/6680 [============================>.] - ETA: 0s - loss: 1.0452 - acc: 0.9988Epoch 00088: val_loss did not improve\n",
      "6680/6680 [==============================] - 2s - loss: 1.0428 - acc: 0.9988 - val_loss: 1.8482 - val_acc: 0.7904\n",
      "Epoch 90/200\n",
      "6500/6680 [============================>.] - ETA: 0s - loss: 1.0453 - acc: 0.9985Epoch 00089: val_loss did not improve\n",
      "6680/6680 [==============================] - 2s - loss: 1.0428 - acc: 0.9985 - val_loss: 1.8400 - val_acc: 0.7904\n",
      "Epoch 91/200\n",
      "6600/6680 [============================>.] - ETA: 0s - loss: 1.0446 - acc: 0.9989Epoch 00090: val_loss did not improve\n",
      "6680/6680 [==============================] - 2s - loss: 1.0422 - acc: 0.9990 - val_loss: 1.8509 - val_acc: 0.7892\n",
      "Epoch 92/200\n",
      "6500/6680 [============================>.] - ETA: 0s - loss: 1.0443 - acc: 0.9988Epoch 00091: val_loss did not improve\n",
      "6680/6680 [==============================] - 3s - loss: 1.0419 - acc: 0.9988 - val_loss: 1.8491 - val_acc: 0.7844\n",
      "Epoch 93/200\n",
      "6600/6680 [============================>.] - ETA: 0s - loss: 1.0443 - acc: 0.9989Epoch 00092: val_loss did not improve\n",
      "6680/6680 [==============================] - 2s - loss: 1.0419 - acc: 0.9990 - val_loss: 1.8398 - val_acc: 0.7880\n",
      "Epoch 94/200\n",
      "6500/6680 [============================>.] - ETA: 0s - loss: 1.0435 - acc: 0.9989Epoch 00093: val_loss improved from 1.83894 to 1.83882, saving model to saved_models/weights.best.VGG19.hdf5\n"
     ]
    },
    {
     "name": "stdout",
     "output_type": "stream",
     "text": [
      "6680/6680 [==============================] - 2s - loss: 1.0411 - acc: 0.9990 - val_loss: 1.8388 - val_acc: 0.7892\n",
      "Epoch 95/200\n",
      "6600/6680 [============================>.] - ETA: 0s - loss: 1.0438 - acc: 0.9988Epoch 00094: val_loss improved from 1.83882 to 1.83414, saving model to saved_models/weights.best.VGG19.hdf5\n",
      "6680/6680 [==============================] - 2s - loss: 1.0413 - acc: 0.9988 - val_loss: 1.8341 - val_acc: 0.7880\n",
      "Epoch 96/200\n",
      "6500/6680 [============================>.] - ETA: 0s - loss: 1.0437 - acc: 0.9988Epoch 00095: val_loss did not improve\n",
      "6680/6680 [==============================] - 2s - loss: 1.0412 - acc: 0.9988 - val_loss: 1.8347 - val_acc: 0.7904\n",
      "Epoch 97/200\n",
      "6500/6680 [============================>.] - ETA: 0s - loss: 1.0431 - acc: 0.9991Epoch 00096: val_loss improved from 1.83414 to 1.82948, saving model to saved_models/weights.best.VGG19.hdf5\n",
      "6680/6680 [==============================] - 2s - loss: 1.0407 - acc: 0.9991 - val_loss: 1.8295 - val_acc: 0.7916\n",
      "Epoch 98/200\n",
      "6600/6680 [============================>.] - ETA: 0s - loss: 1.0424 - acc: 0.9991Epoch 00097: val_loss did not improve\n",
      "6680/6680 [==============================] - 2s - loss: 1.0401 - acc: 0.9990 - val_loss: 1.8331 - val_acc: 0.7904\n",
      "Epoch 99/200\n",
      "6500/6680 [============================>.] - ETA: 0s - loss: 1.0418 - acc: 0.9994Epoch 00098: val_loss did not improve\n",
      "6680/6680 [==============================] - 2s - loss: 1.0396 - acc: 0.9993 - val_loss: 1.8551 - val_acc: 0.7916\n",
      "Epoch 100/200\n",
      "6600/6680 [============================>.] - ETA: 0s - loss: 1.0420 - acc: 0.9991Epoch 00099: val_loss did not improve\n",
      "6680/6680 [==============================] - 3s - loss: 1.0396 - acc: 0.9991 - val_loss: 1.8382 - val_acc: 0.7892\n",
      "Epoch 101/200\n",
      "6500/6680 [============================>.] - ETA: 0s - loss: 1.0429 - acc: 0.9986Epoch 00100: val_loss did not improve\n",
      "6680/6680 [==============================] - 2s - loss: 1.0404 - acc: 0.9987 - val_loss: 1.8339 - val_acc: 0.7916\n",
      "Epoch 102/200\n",
      "6500/6680 [============================>.] - ETA: 0s - loss: 1.0416 - acc: 0.9989Epoch 00101: val_loss did not improve\n",
      "6680/6680 [==============================] - 2s - loss: 1.0392 - acc: 0.9990 - val_loss: 1.8326 - val_acc: 0.7940\n",
      "Epoch 103/200\n",
      "6500/6680 [============================>.] - ETA: 0s - loss: 1.0415 - acc: 0.9991Epoch 00102: val_loss did not improve\n",
      "6680/6680 [==============================] - 2s - loss: 1.0390 - acc: 0.9991 - val_loss: 1.8308 - val_acc: 0.7916\n",
      "Epoch 104/200\n",
      "6600/6680 [============================>.] - ETA: 0s - loss: 1.0421 - acc: 0.9986Epoch 00103: val_loss did not improve\n",
      "6680/6680 [==============================] - 2s - loss: 1.0397 - acc: 0.9987 - val_loss: 1.8324 - val_acc: 0.7904\n",
      "Epoch 105/200\n",
      "6600/6680 [============================>.] - ETA: 0s - loss: 1.0413 - acc: 0.9986Epoch 00104: val_loss did not improve\n",
      "6680/6680 [==============================] - 2s - loss: 1.0389 - acc: 0.9987 - val_loss: 1.8429 - val_acc: 0.7928\n",
      "Epoch 106/200\n",
      "6500/6680 [============================>.] - ETA: 0s - loss: 1.0418 - acc: 0.9985Epoch 00105: val_loss did not improve\n",
      "6680/6680 [==============================] - 3s - loss: 1.0395 - acc: 0.9984 - val_loss: 1.8429 - val_acc: 0.7844\n",
      "Epoch 107/200\n",
      "6600/6680 [============================>.] - ETA: 0s - loss: 1.0422 - acc: 0.9985Epoch 00106: val_loss improved from 1.82948 to 1.82089, saving model to saved_models/weights.best.VGG19.hdf5\n",
      "6680/6680 [==============================] - 3s - loss: 1.0398 - acc: 0.9985 - val_loss: 1.8209 - val_acc: 0.7964\n",
      "Epoch 108/200\n",
      "6600/6680 [============================>.] - ETA: 0s - loss: 1.0412 - acc: 0.9986Epoch 00107: val_loss did not improve\n",
      "6680/6680 [==============================] - 3s - loss: 1.0388 - acc: 0.9987 - val_loss: 1.8407 - val_acc: 0.7892\n",
      "Epoch 109/200\n",
      "6600/6680 [============================>.] - ETA: 0s - loss: 1.0398 - acc: 0.9992Epoch 00108: val_loss did not improve\n",
      "6680/6680 [==============================] - 2s - loss: 1.0377 - acc: 0.9991 - val_loss: 1.8467 - val_acc: 0.7940\n",
      "Epoch 110/200\n",
      "6500/6680 [============================>.] - ETA: 0s - loss: 1.0410 - acc: 0.9985Epoch 00109: val_loss did not improve\n",
      "6680/6680 [==============================] - 2s - loss: 1.0386 - acc: 0.9985 - val_loss: 1.8322 - val_acc: 0.7940\n",
      "Epoch 111/200\n",
      "6500/6680 [============================>.] - ETA: 0s - loss: 1.0401 - acc: 0.9988Epoch 00110: val_loss did not improve\n",
      "6680/6680 [==============================] - 2s - loss: 1.0377 - acc: 0.9988 - val_loss: 1.8497 - val_acc: 0.7940\n",
      "Epoch 112/200\n",
      "6500/6680 [============================>.] - ETA: 0s - loss: 1.0398 - acc: 0.9989Epoch 00111: val_loss did not improve\n",
      "6680/6680 [==============================] - 2s - loss: 1.0374 - acc: 0.9990 - val_loss: 1.8337 - val_acc: 0.7892\n",
      "Epoch 113/200\n",
      "6500/6680 [============================>.] - ETA: 0s - loss: 1.0398 - acc: 0.9988Epoch 00112: val_loss did not improve\n",
      "6680/6680 [==============================] - 2s - loss: 1.0373 - acc: 0.9988 - val_loss: 1.8367 - val_acc: 0.7892\n",
      "Epoch 114/200\n",
      "6500/6680 [============================>.] - ETA: 0s - loss: 1.0395 - acc: 0.9989Epoch 00113: val_loss did not improve\n",
      "6680/6680 [==============================] - 2s - loss: 1.0370 - acc: 0.9990 - val_loss: 1.8314 - val_acc: 0.7940\n",
      "Epoch 115/200\n",
      "6600/6680 [============================>.] - ETA: 0s - loss: 1.0394 - acc: 0.9988Epoch 00114: val_loss did not improve\n",
      "6680/6680 [==============================] - 3s - loss: 1.0370 - acc: 0.9988 - val_loss: 1.8302 - val_acc: 0.7892\n",
      "Epoch 116/200\n",
      "6500/6680 [============================>.] - ETA: 0s - loss: 1.0397 - acc: 0.9986Epoch 00115: val_loss did not improve\n",
      "6680/6680 [==============================] - 2s - loss: 1.0372 - acc: 0.9987 - val_loss: 1.8240 - val_acc: 0.7880\n",
      "Epoch 117/200\n",
      "6500/6680 [============================>.] - ETA: 0s - loss: 1.0391 - acc: 0.9988Epoch 00116: val_loss did not improve\n",
      "6680/6680 [==============================] - 2s - loss: 1.0368 - acc: 0.9987 - val_loss: 1.8349 - val_acc: 0.7868\n",
      "Epoch 118/200\n",
      "6500/6680 [============================>.] - ETA: 0s - loss: 1.0393 - acc: 0.9988Epoch 00117: val_loss did not improve\n",
      "6680/6680 [==============================] - 2s - loss: 1.0373 - acc: 0.9987 - val_loss: 1.8276 - val_acc: 0.7904\n",
      "Epoch 119/200\n",
      "6500/6680 [============================>.] - ETA: 0s - loss: 1.0391 - acc: 0.9986Epoch 00118: val_loss did not improve\n",
      "6680/6680 [==============================] - 2s - loss: 1.0366 - acc: 0.9987 - val_loss: 1.8281 - val_acc: 0.7940\n",
      "Epoch 120/200\n",
      "6500/6680 [============================>.] - ETA: 0s - loss: 1.0383 - acc: 0.9991Epoch 00119: val_loss did not improve\n",
      "6680/6680 [==============================] - 2s - loss: 1.0360 - acc: 0.9990 - val_loss: 1.8226 - val_acc: 0.7868\n",
      "Epoch 121/200\n",
      "6500/6680 [============================>.] - ETA: 0s - loss: 1.0390 - acc: 0.9988Epoch 00120: val_loss did not improve\n",
      "6680/6680 [==============================] - 2s - loss: 1.0366 - acc: 0.9988 - val_loss: 1.8211 - val_acc: 0.7988\n",
      "Epoch 122/200\n",
      "6500/6680 [============================>.] - ETA: 0s - loss: 1.0382 - acc: 0.9989Epoch 00121: val_loss did not improve\n",
      "6680/6680 [==============================] - 2s - loss: 1.0357 - acc: 0.9990 - val_loss: 1.8339 - val_acc: 0.7928\n",
      "Epoch 123/200\n",
      "6500/6680 [============================>.] - ETA: 0s - loss: 1.0379 - acc: 0.9991Epoch 00122: val_loss did not improve\n",
      "6680/6680 [==============================] - 3s - loss: 1.0354 - acc: 0.9991 - val_loss: 1.8237 - val_acc: 0.7916\n",
      "Epoch 124/200\n",
      "6600/6680 [============================>.] - ETA: 0s - loss: 1.0374 - acc: 0.9992Epoch 00123: val_loss did not improve\n",
      "6680/6680 [==============================] - 3s - loss: 1.0349 - acc: 0.9993 - val_loss: 1.8326 - val_acc: 0.7940\n",
      "Epoch 125/200\n",
      "6500/6680 [============================>.] - ETA: 0s - loss: 1.0377 - acc: 0.9991Epoch 00124: val_loss did not improve\n",
      "6680/6680 [==============================] - 2s - loss: 1.0352 - acc: 0.9991 - val_loss: 1.8216 - val_acc: 0.7892\n",
      "Epoch 126/200\n",
      "6500/6680 [============================>.] - ETA: 0s - loss: 1.0372 - acc: 0.9992Epoch 00125: val_loss did not improve\n",
      "6680/6680 [==============================] - 2s - loss: 1.0348 - acc: 0.9993 - val_loss: 1.8226 - val_acc: 0.7952\n",
      "Epoch 127/200\n",
      "6500/6680 [============================>.] - ETA: 0s - loss: 1.0373 - acc: 0.9991Epoch 00126: val_loss improved from 1.82089 to 1.81913, saving model to saved_models/weights.best.VGG19.hdf5\n",
      "6680/6680 [==============================] - 2s - loss: 1.0348 - acc: 0.9991 - val_loss: 1.8191 - val_acc: 0.7940\n",
      "Epoch 128/200\n",
      "6500/6680 [============================>.] - ETA: 0s - loss: 1.0377 - acc: 0.9988Epoch 00127: val_loss did not improve\n",
      "6680/6680 [==============================] - 2s - loss: 1.0353 - acc: 0.9988 - val_loss: 1.8211 - val_acc: 0.7916\n",
      "Epoch 129/200\n",
      "6500/6680 [============================>.] - ETA: 0s - loss: 1.0374 - acc: 0.9989Epoch 00128: val_loss did not improve\n",
      "6680/6680 [==============================] - 2s - loss: 1.0350 - acc: 0.9990 - val_loss: 1.8312 - val_acc: 0.7916\n",
      "Epoch 130/200\n",
      "6500/6680 [============================>.] - ETA: 0s - loss: 1.0365 - acc: 0.9991Epoch 00129: val_loss did not improve\n",
      "6680/6680 [==============================] - 3s - loss: 1.0341 - acc: 0.9991 - val_loss: 1.8278 - val_acc: 0.7964\n",
      "Epoch 131/200\n",
      "6500/6680 [============================>.] - ETA: 0s - loss: 1.0370 - acc: 0.9988Epoch 00130: val_loss did not improve\n",
      "6680/6680 [==============================] - 3s - loss: 1.0346 - acc: 0.9988 - val_loss: 1.8344 - val_acc: 0.7940\n",
      "Epoch 132/200\n",
      "6500/6680 [============================>.] - ETA: 0s - loss: 1.0372 - acc: 0.9986Epoch 00131: val_loss did not improve\n",
      "6680/6680 [==============================] - 3s - loss: 1.0348 - acc: 0.9987 - val_loss: 1.8207 - val_acc: 0.7904\n",
      "Epoch 133/200\n",
      "6500/6680 [============================>.] - ETA: 0s - loss: 1.0365 - acc: 0.9991Epoch 00132: val_loss improved from 1.81913 to 1.81811, saving model to saved_models/weights.best.VGG19.hdf5\n",
      "6680/6680 [==============================] - 2s - loss: 1.0342 - acc: 0.9990 - val_loss: 1.8181 - val_acc: 0.7916\n",
      "Epoch 134/200\n",
      "6500/6680 [============================>.] - ETA: 0s - loss: 1.0364 - acc: 0.9989Epoch 00133: val_loss did not improve\n",
      "6680/6680 [==============================] - 2s - loss: 1.0343 - acc: 0.9988 - val_loss: 1.8280 - val_acc: 0.7868\n",
      "Epoch 135/200\n",
      "6500/6680 [============================>.] - ETA: 0s - loss: 1.0370 - acc: 0.9985Epoch 00134: val_loss improved from 1.81811 to 1.81794, saving model to saved_models/weights.best.VGG19.hdf5\n",
      "6680/6680 [==============================] - 3s - loss: 1.0345 - acc: 0.9985 - val_loss: 1.8179 - val_acc: 0.7892\n",
      "Epoch 136/200\n",
      "6600/6680 [============================>.] - ETA: 0s - loss: 1.0361 - acc: 0.9989Epoch 00135: val_loss did not improve\n",
      "6680/6680 [==============================] - 2s - loss: 1.0337 - acc: 0.9990 - val_loss: 1.8219 - val_acc: 0.7928\n",
      "Epoch 137/200\n",
      "6600/6680 [============================>.] - ETA: 0s - loss: 1.0357 - acc: 0.9991Epoch 00136: val_loss did not improve\n",
      "6680/6680 [==============================] - 3s - loss: 1.0335 - acc: 0.9990 - val_loss: 1.8313 - val_acc: 0.7880\n",
      "Epoch 138/200\n",
      "6500/6680 [============================>.] - ETA: 0s - loss: 1.0355 - acc: 0.9991Epoch 00137: val_loss did not improve\n",
      "6680/6680 [==============================] - 2s - loss: 1.0331 - acc: 0.9991 - val_loss: 1.8268 - val_acc: 0.7904\n",
      "Epoch 139/200\n",
      "6500/6680 [============================>.] - ETA: 0s - loss: 1.0364 - acc: 0.9988Epoch 00138: val_loss improved from 1.81794 to 1.81529, saving model to saved_models/weights.best.VGG19.hdf5\n",
      "6680/6680 [==============================] - 2s - loss: 1.0339 - acc: 0.9988 - val_loss: 1.8153 - val_acc: 0.7880\n",
      "Epoch 140/200\n",
      "6600/6680 [============================>.] - ETA: 0s - loss: 1.0357 - acc: 0.9988Epoch 00139: val_loss improved from 1.81529 to 1.80901, saving model to saved_models/weights.best.VGG19.hdf5\n",
      "6680/6680 [==============================] - 2s - loss: 1.0332 - acc: 0.9988 - val_loss: 1.8090 - val_acc: 0.7928\n",
      "Epoch 141/200\n",
      "6500/6680 [============================>.] - ETA: 0s - loss: 1.0352 - acc: 0.9989Epoch 00140: val_loss did not improve\n",
      "6680/6680 [==============================] - 2s - loss: 1.0331 - acc: 0.9988 - val_loss: 1.8228 - val_acc: 0.7928\n",
      "Epoch 142/200\n",
      "6500/6680 [============================>.] - ETA: 0s - loss: 1.0349 - acc: 0.9992Epoch 00141: val_loss did not improve\n",
      "6680/6680 [==============================] - 2s - loss: 1.0324 - acc: 0.9993 - val_loss: 1.8220 - val_acc: 0.7916\n",
      "Epoch 143/200\n",
      "6500/6680 [============================>.] - ETA: 0s - loss: 1.0351 - acc: 0.9989Epoch 00142: val_loss improved from 1.80901 to 1.79889, saving model to saved_models/weights.best.VGG19.hdf5\n",
      "6680/6680 [==============================] - 2s - loss: 1.0327 - acc: 0.9990 - val_loss: 1.7989 - val_acc: 0.7892\n",
      "Epoch 144/200\n",
      "6500/6680 [============================>.] - ETA: 0s - loss: 1.0355 - acc: 0.9988Epoch 00143: val_loss did not improve\n",
      "6680/6680 [==============================] - 2s - loss: 1.0330 - acc: 0.9988 - val_loss: 1.8229 - val_acc: 0.7892\n",
      "Epoch 145/200\n",
      "6500/6680 [============================>.] - ETA: 0s - loss: 1.0355 - acc: 0.9988Epoch 00144: val_loss did not improve\n",
      "6680/6680 [==============================] - 2s - loss: 1.0330 - acc: 0.9988 - val_loss: 1.8251 - val_acc: 0.7856\n",
      "Epoch 146/200\n",
      "6500/6680 [============================>.] - ETA: 0s - loss: 1.0352 - acc: 0.9988Epoch 00145: val_loss did not improve\n",
      "6680/6680 [==============================] - 2s - loss: 1.0328 - acc: 0.9988 - val_loss: 1.8224 - val_acc: 0.7880\n",
      "Epoch 147/200\n",
      "6500/6680 [============================>.] - ETA: 0s - loss: 1.0348 - acc: 0.9989Epoch 00146: val_loss did not improve\n",
      "6680/6680 [==============================] - 2s - loss: 1.0324 - acc: 0.9990 - val_loss: 1.8220 - val_acc: 0.7892\n",
      "Epoch 148/200\n",
      "6500/6680 [============================>.] - ETA: 0s - loss: 1.0350 - acc: 0.9988Epoch 00147: val_loss did not improve\n",
      "6680/6680 [==============================] - 2s - loss: 1.0325 - acc: 0.9988 - val_loss: 1.8225 - val_acc: 0.7916\n",
      "Epoch 149/200\n",
      "6500/6680 [============================>.] - ETA: 0s - loss: 1.0342 - acc: 0.9991Epoch 00148: val_loss did not improve\n",
      "6680/6680 [==============================] - 2s - loss: 1.0318 - acc: 0.9991 - val_loss: 1.8224 - val_acc: 0.7904\n",
      "Epoch 150/200\n",
      "6500/6680 [============================>.] - ETA: 0s - loss: 1.0338 - acc: 0.9992Epoch 00149: val_loss did not improve\n",
      "6680/6680 [==============================] - 2s - loss: 1.0317 - acc: 0.9991 - val_loss: 1.8181 - val_acc: 0.7940\n",
      "Epoch 151/200\n",
      "6500/6680 [============================>.] - ETA: 0s - loss: 1.0347 - acc: 0.9988Epoch 00150: val_loss did not improve\n",
      "6680/6680 [==============================] - 2s - loss: 1.0322 - acc: 0.9988 - val_loss: 1.8173 - val_acc: 0.7940\n",
      "Epoch 152/200\n",
      "6500/6680 [============================>.] - ETA: 0s - loss: 1.0335 - acc: 0.9991Epoch 00151: val_loss did not improve\n",
      "6680/6680 [==============================] - 2s - loss: 1.0316 - acc: 0.9988 - val_loss: 1.8421 - val_acc: 0.7916\n",
      "Epoch 153/200\n",
      "6600/6680 [============================>.] - ETA: 0s - loss: 1.0342 - acc: 0.9989Epoch 00152: val_loss did not improve\n",
      "6680/6680 [==============================] - 2s - loss: 1.0318 - acc: 0.9990 - val_loss: 1.8159 - val_acc: 0.7892\n",
      "Epoch 154/200\n",
      "6500/6680 [============================>.] - ETA: 0s - loss: 1.0341 - acc: 0.9988Epoch 00153: val_loss did not improve\n",
      "6680/6680 [==============================] - 2s - loss: 1.0316 - acc: 0.9988 - val_loss: 1.8102 - val_acc: 0.7940\n",
      "Epoch 155/200\n",
      "6500/6680 [============================>.] - ETA: 0s - loss: 1.0333 - acc: 0.9992Epoch 00154: val_loss did not improve\n",
      "6680/6680 [==============================] - 2s - loss: 1.0314 - acc: 0.9990 - val_loss: 1.8033 - val_acc: 0.7940\n",
      "Epoch 156/200\n",
      "6500/6680 [============================>.] - ETA: 0s - loss: 1.0341 - acc: 0.9986Epoch 00155: val_loss did not improve\n",
      "6680/6680 [==============================] - 2s - loss: 1.0317 - acc: 0.9987 - val_loss: 1.8107 - val_acc: 0.7916\n",
      "Epoch 157/200\n",
      "6500/6680 [============================>.] - ETA: 0s - loss: 1.0340 - acc: 0.9989Epoch 00156: val_loss did not improve\n"
     ]
    },
    {
     "name": "stdout",
     "output_type": "stream",
     "text": [
      "6680/6680 [==============================] - 2s - loss: 1.0315 - acc: 0.9990 - val_loss: 1.8126 - val_acc: 0.7952\n",
      "Epoch 158/200\n",
      "6500/6680 [============================>.] - ETA: 0s - loss: 1.0332 - acc: 0.9989Epoch 00157: val_loss did not improve\n",
      "6680/6680 [==============================] - 2s - loss: 1.0308 - acc: 0.9990 - val_loss: 1.8343 - val_acc: 0.7916\n",
      "Epoch 159/200\n",
      "6500/6680 [============================>.] - ETA: 0s - loss: 1.0330 - acc: 0.9992Epoch 00158: val_loss did not improve\n",
      "6680/6680 [==============================] - 2s - loss: 1.0306 - acc: 0.9993 - val_loss: 1.8093 - val_acc: 0.7952\n",
      "Epoch 160/200\n",
      "6600/6680 [============================>.] - ETA: 0s - loss: 1.0338 - acc: 0.9985Epoch 00159: val_loss did not improve\n",
      "6680/6680 [==============================] - 2s - loss: 1.0314 - acc: 0.9985 - val_loss: 1.8033 - val_acc: 0.7988\n",
      "Epoch 161/200\n",
      "6500/6680 [============================>.] - ETA: 0s - loss: 1.0334 - acc: 0.9989Epoch 00160: val_loss did not improve\n",
      "6680/6680 [==============================] - 3s - loss: 1.0309 - acc: 0.9990 - val_loss: 1.8204 - val_acc: 0.7964\n",
      "Epoch 162/200\n",
      "6500/6680 [============================>.] - ETA: 0s - loss: 1.0332 - acc: 0.9989Epoch 00161: val_loss did not improve\n",
      "6680/6680 [==============================] - 3s - loss: 1.0308 - acc: 0.9990 - val_loss: 1.8233 - val_acc: 0.7868\n",
      "Epoch 163/200\n",
      "6500/6680 [============================>.] - ETA: 0s - loss: 1.0333 - acc: 0.9989Epoch 00162: val_loss did not improve\n",
      "6680/6680 [==============================] - 2s - loss: 1.0308 - acc: 0.9990 - val_loss: 1.8057 - val_acc: 0.7940\n",
      "Epoch 164/200\n",
      "6600/6680 [============================>.] - ETA: 0s - loss: 1.0333 - acc: 0.9988Epoch 00163: val_loss did not improve\n",
      "6680/6680 [==============================] - 2s - loss: 1.0308 - acc: 0.9988 - val_loss: 1.8218 - val_acc: 0.7940\n",
      "Epoch 165/200\n",
      "6500/6680 [============================>.] - ETA: 0s - loss: 1.0320 - acc: 0.9992Epoch 00164: val_loss did not improve\n",
      "6680/6680 [==============================] - 2s - loss: 1.0300 - acc: 0.9991 - val_loss: 1.8129 - val_acc: 0.7904\n",
      "Epoch 166/200\n",
      "6600/6680 [============================>.] - ETA: 0s - loss: 1.0331 - acc: 0.9989Epoch 00165: val_loss did not improve\n",
      "6680/6680 [==============================] - 2s - loss: 1.0307 - acc: 0.9990 - val_loss: 1.8094 - val_acc: 0.7916\n",
      "Epoch 167/200\n",
      "6500/6680 [============================>.] - ETA: 0s - loss: 1.0330 - acc: 0.9988Epoch 00166: val_loss did not improve\n",
      "6680/6680 [==============================] - 3s - loss: 1.0306 - acc: 0.9988 - val_loss: 1.8136 - val_acc: 0.7952\n",
      "Epoch 168/200\n",
      "6500/6680 [============================>.] - ETA: 0s - loss: 1.0328 - acc: 0.9989Epoch 00167: val_loss did not improve\n",
      "6680/6680 [==============================] - 3s - loss: 1.0303 - acc: 0.9990 - val_loss: 1.8033 - val_acc: 0.7916\n",
      "Epoch 169/200\n",
      "6500/6680 [============================>.] - ETA: 0s - loss: 1.0323 - acc: 0.9991Epoch 00168: val_loss did not improve\n",
      "6680/6680 [==============================] - 3s - loss: 1.0301 - acc: 0.9990 - val_loss: 1.8199 - val_acc: 0.7892\n",
      "Epoch 170/200\n",
      "6500/6680 [============================>.] - ETA: 0s - loss: 1.0324 - acc: 0.9988Epoch 00169: val_loss did not improve\n",
      "6680/6680 [==============================] - 3s - loss: 1.0303 - acc: 0.9987 - val_loss: 1.8346 - val_acc: 0.7916\n",
      "Epoch 171/200\n",
      "6500/6680 [============================>.] - ETA: 0s - loss: 1.0327 - acc: 0.9988Epoch 00170: val_loss did not improve\n",
      "6680/6680 [==============================] - 2s - loss: 1.0303 - acc: 0.9988 - val_loss: 1.8157 - val_acc: 0.7916\n",
      "Epoch 172/200\n",
      "6500/6680 [============================>.] - ETA: 0s - loss: 1.0324 - acc: 0.9988Epoch 00171: val_loss did not improve\n",
      "6680/6680 [==============================] - 2s - loss: 1.0299 - acc: 0.9988 - val_loss: 1.8105 - val_acc: 0.7976\n",
      "Epoch 173/200\n",
      "6500/6680 [============================>.] - ETA: 0s - loss: 1.0322 - acc: 0.9989Epoch 00172: val_loss did not improve\n",
      "6680/6680 [==============================] - 2s - loss: 1.0298 - acc: 0.9990 - val_loss: 1.8126 - val_acc: 0.7904\n",
      "Epoch 174/200\n",
      "6600/6680 [============================>.] - ETA: 0s - loss: 1.0318 - acc: 0.9991Epoch 00173: val_loss did not improve\n",
      "6680/6680 [==============================] - 2s - loss: 1.0294 - acc: 0.9991 - val_loss: 1.8048 - val_acc: 0.7904\n",
      "Epoch 175/200\n",
      "6600/6680 [============================>.] - ETA: 0s - loss: 1.0314 - acc: 0.9991Epoch 00174: val_loss did not improve\n",
      "6680/6680 [==============================] - 2s - loss: 1.0290 - acc: 0.9991 - val_loss: 1.8185 - val_acc: 0.7892\n",
      "Epoch 176/200\n",
      "6500/6680 [============================>.] - ETA: 0s - loss: 1.0322 - acc: 0.9986Epoch 00175: val_loss did not improve\n",
      "6680/6680 [==============================] - 2s - loss: 1.0297 - acc: 0.9987 - val_loss: 1.8007 - val_acc: 0.7952\n",
      "Epoch 177/200\n",
      "6500/6680 [============================>.] - ETA: 0s - loss: 1.0319 - acc: 0.9989Epoch 00176: val_loss did not improve\n",
      "6680/6680 [==============================] - 2s - loss: 1.0294 - acc: 0.9990 - val_loss: 1.8051 - val_acc: 0.7952\n",
      "Epoch 178/200\n",
      "6500/6680 [============================>.] - ETA: 0s - loss: 1.0313 - acc: 0.9989Epoch 00177: val_loss did not improve\n",
      "6680/6680 [==============================] - 2s - loss: 1.0289 - acc: 0.9990 - val_loss: 1.8266 - val_acc: 0.7904\n",
      "Epoch 179/200\n",
      "6600/6680 [============================>.] - ETA: 0s - loss: 1.0319 - acc: 0.9986Epoch 00178: val_loss did not improve\n",
      "6680/6680 [==============================] - 2s - loss: 1.0295 - acc: 0.9987 - val_loss: 1.8022 - val_acc: 0.7904\n",
      "Epoch 180/200\n",
      "6500/6680 [============================>.] - ETA: 0s - loss: 1.0316 - acc: 0.9988Epoch 00179: val_loss did not improve\n",
      "6680/6680 [==============================] - 2s - loss: 1.0292 - acc: 0.9988 - val_loss: 1.8117 - val_acc: 0.7988\n",
      "Epoch 181/200\n",
      "6500/6680 [============================>.] - ETA: 0s - loss: 1.0313 - acc: 0.9991Epoch 00180: val_loss did not improve\n",
      "6680/6680 [==============================] - 2s - loss: 1.0289 - acc: 0.9991 - val_loss: 1.8059 - val_acc: 0.7892\n",
      "Epoch 182/200\n",
      "6600/6680 [============================>.] - ETA: 0s - loss: 1.0312 - acc: 0.9989Epoch 00181: val_loss did not improve\n",
      "6680/6680 [==============================] - 2s - loss: 1.0288 - acc: 0.9990 - val_loss: 1.8038 - val_acc: 0.7940\n",
      "Epoch 183/200\n",
      "6500/6680 [============================>.] - ETA: 0s - loss: 1.0314 - acc: 0.9988Epoch 00182: val_loss did not improve\n",
      "6680/6680 [==============================] - 3s - loss: 1.0290 - acc: 0.9988 - val_loss: 1.8111 - val_acc: 0.7868\n",
      "Epoch 184/200\n",
      "6500/6680 [============================>.] - ETA: 0s - loss: 1.0304 - acc: 0.9992Epoch 00183: val_loss did not improve\n",
      "6680/6680 [==============================] - 2s - loss: 1.0286 - acc: 0.9990 - val_loss: 1.8367 - val_acc: 0.7916\n",
      "Epoch 185/200\n",
      "6500/6680 [============================>.] - ETA: 0s - loss: 1.0308 - acc: 0.9992Epoch 00184: val_loss did not improve\n",
      "6680/6680 [==============================] - 2s - loss: 1.0284 - acc: 0.9993 - val_loss: 1.8024 - val_acc: 0.7892\n",
      "Epoch 186/200\n",
      "6500/6680 [============================>.] - ETA: 0s - loss: 1.0310 - acc: 0.9989Epoch 00185: val_loss did not improve\n",
      "6680/6680 [==============================] - 2s - loss: 1.0285 - acc: 0.9990 - val_loss: 1.8085 - val_acc: 0.7976\n",
      "Epoch 187/200\n",
      "6500/6680 [============================>.] - ETA: 0s - loss: 1.0310 - acc: 0.9989Epoch 00186: val_loss improved from 1.79889 to 1.79569, saving model to saved_models/weights.best.VGG19.hdf5\n",
      "6680/6680 [==============================] - 2s - loss: 1.0286 - acc: 0.9990 - val_loss: 1.7957 - val_acc: 0.7988\n",
      "Epoch 188/200\n",
      "6500/6680 [============================>.] - ETA: 0s - loss: 1.0306 - acc: 0.9991Epoch 00187: val_loss did not improve\n",
      "6680/6680 [==============================] - 2s - loss: 1.0281 - acc: 0.9991 - val_loss: 1.8216 - val_acc: 0.7928\n",
      "Epoch 189/200\n",
      "6500/6680 [============================>.] - ETA: 0s - loss: 1.0310 - acc: 0.9986Epoch 00188: val_loss did not improve\n",
      "6680/6680 [==============================] - 2s - loss: 1.0286 - acc: 0.9987 - val_loss: 1.8067 - val_acc: 0.7844\n",
      "Epoch 190/200\n",
      "6500/6680 [============================>.] - ETA: 0s - loss: 1.0307 - acc: 0.9991Epoch 00189: val_loss did not improve\n"
     ]
    },
    {
     "name": "stdout",
     "output_type": "stream",
     "text": [
      "6680/6680 [==============================] - 2s - loss: 1.0282 - acc: 0.9991 - val_loss: 1.8092 - val_acc: 0.7868\n",
      "Epoch 191/200\n",
      "6500/6680 [============================>.] - ETA: 0s - loss: 1.0312 - acc: 0.9986Epoch 00190: val_loss did not improve\n",
      "6680/6680 [==============================] - 2s - loss: 1.0287 - acc: 0.9987 - val_loss: 1.8054 - val_acc: 0.7940\n",
      "Epoch 192/200\n",
      "6500/6680 [============================>.] - ETA: 0s - loss: 1.0310 - acc: 0.9988Epoch 00191: val_loss did not improve\n",
      "6680/6680 [==============================] - 2s - loss: 1.0285 - acc: 0.9988 - val_loss: 1.8030 - val_acc: 0.7976\n",
      "Epoch 193/200\n",
      "6600/6680 [============================>.] - ETA: 0s - loss: 1.0298 - acc: 0.9994Epoch 00192: val_loss did not improve\n",
      "6680/6680 [==============================] - 3s - loss: 1.0277 - acc: 0.9993 - val_loss: 1.8174 - val_acc: 0.7976\n",
      "Epoch 194/200\n",
      "6600/6680 [============================>.] - ETA: 0s - loss: 1.0302 - acc: 0.9991Epoch 00193: val_loss did not improve\n",
      "6680/6680 [==============================] - 2s - loss: 1.0278 - acc: 0.9991 - val_loss: 1.8038 - val_acc: 0.7928\n",
      "Epoch 195/200\n",
      "6500/6680 [============================>.] - ETA: 0s - loss: 1.0305 - acc: 0.9989Epoch 00194: val_loss did not improve\n",
      "6680/6680 [==============================] - 2s - loss: 1.0280 - acc: 0.9990 - val_loss: 1.8211 - val_acc: 0.7856\n",
      "Epoch 196/200\n",
      "6600/6680 [============================>.] - ETA: 0s - loss: 1.0305 - acc: 0.9988Epoch 00195: val_loss did not improve\n",
      "6680/6680 [==============================] - 2s - loss: 1.0281 - acc: 0.9988 - val_loss: 1.8063 - val_acc: 0.7904\n",
      "Epoch 197/200\n",
      "6500/6680 [============================>.] - ETA: 0s - loss: 1.0303 - acc: 0.9988Epoch 00196: val_loss did not improve\n",
      "6680/6680 [==============================] - 3s - loss: 1.0279 - acc: 0.9988 - val_loss: 1.8036 - val_acc: 0.7892\n",
      "Epoch 198/200\n",
      "6600/6680 [============================>.] - ETA: 0s - loss: 1.0303 - acc: 0.9986Epoch 00197: val_loss did not improve\n",
      "6680/6680 [==============================] - 2s - loss: 1.0279 - acc: 0.9987 - val_loss: 1.8035 - val_acc: 0.7928\n",
      "Epoch 199/200\n",
      "6600/6680 [============================>.] - ETA: 0s - loss: 1.0300 - acc: 0.9988Epoch 00198: val_loss did not improve\n",
      "6680/6680 [==============================] - 2s - loss: 1.0276 - acc: 0.9988 - val_loss: 1.8077 - val_acc: 0.7868\n",
      "Epoch 200/200\n",
      "6500/6680 [============================>.] - ETA: 0s - loss: 1.0301 - acc: 0.9989Epoch 00199: val_loss did not improve\n",
      "6680/6680 [==============================] - 2s - loss: 1.0276 - acc: 0.9990 - val_loss: 1.8140 - val_acc: 0.7892\n"
     ]
    },
    {
     "data": {
      "text/plain": [
       "<keras.callbacks.History at 0x7f65403146d8>"
      ]
     },
     "execution_count": 30,
     "metadata": {},
     "output_type": "execute_result"
    }
   ],
   "source": [
    "### TODO: Train the model.\n",
    "checkpointer = ModelCheckpoint(filepath='saved_models/weights.best.VGG19.hdf5', \n",
    "                               verbose=1, save_best_only=True)\n",
    "\n",
    "VGG19_model.fit(train_VGG19, train_targets, \n",
    "          validation_data=(valid_VGG19, valid_targets),\n",
    "          epochs=50, batch_size=100, callbacks=[checkpointer], verbose=1)"
   ]
  },
  {
   "cell_type": "markdown",
   "metadata": {},
   "source": [
    "### I have used l1 and l2 reguralisation but still there is huge difference between validation accuracy vs training accuracy. what could be done to improve it ?"
   ]
  },
  {
   "cell_type": "markdown",
   "metadata": {},
   "source": [
    "### (IMPLEMENTATION) Load the Model with the Best Validation Loss"
   ]
  },
  {
   "cell_type": "code",
   "execution_count": 78,
   "metadata": {
    "collapsed": true
   },
   "outputs": [],
   "source": [
    "### TODO: Load the model weights with the best validation loss.\n",
    "VGG19_model.load_weights('saved_models/weights.best.VGG19.hdf5')"
   ]
  },
  {
   "cell_type": "markdown",
   "metadata": {},
   "source": [
    "### (IMPLEMENTATION) Test the Model\n",
    "\n",
    "Try out your model on the test dataset of dog images. Ensure that your test accuracy is greater than 60%."
   ]
  },
  {
   "cell_type": "code",
   "execution_count": 79,
   "metadata": {},
   "outputs": [
    {
     "name": "stdout",
     "output_type": "stream",
     "text": [
      "Test accuracy: 77.9904%\n"
     ]
    }
   ],
   "source": [
    "### TODO: Calculate classification accuracy on the test dataset.\n",
    "# get index of predicted dog breed for each image in test set\n",
    "VGG19_predictions = [np.argmax(VGG19_model.predict(np.expand_dims(feature, axis=0))) for feature in test_VGG19]\n",
    "\n",
    "# report test accuracy\n",
    "test_accuracy = 100*np.sum(np.array(VGG19_predictions)==np.argmax(test_targets, axis=1))/len(VGG19_predictions)\n",
    "print('Test accuracy: %.4f%%' % test_accuracy)"
   ]
  },
  {
   "cell_type": "markdown",
   "metadata": {},
   "source": [
    "### (IMPLEMENTATION) Predict Dog Breed with the Model\n",
    "\n",
    "Write a function that takes an image path as input and returns the dog breed (`Affenpinscher`, `Afghan_hound`, etc) that is predicted by your model.  \n",
    "\n",
    "Similar to the analogous function in Step 5, your function should have three steps:\n",
    "1. Extract the bottleneck features corresponding to the chosen CNN model.\n",
    "2. Supply the bottleneck features as input to the model to return the predicted vector.  Note that the argmax of this prediction vector gives the index of the predicted dog breed.\n",
    "3. Use the `dog_names` array defined in Step 0 of this notebook to return the corresponding breed.\n",
    "\n",
    "The functions to extract the bottleneck features can be found in `extract_bottleneck_features.py`, and they have been imported in an earlier code cell.  To obtain the bottleneck features corresponding to your chosen CNN architecture, you need to use the function\n",
    "\n",
    "    extract_{network}\n",
    "    \n",
    "where `{network}`, in the above filename, should be one of `VGG19`, `Resnet50`, `InceptionV3`, or `Xception`."
   ]
  },
  {
   "cell_type": "code",
   "execution_count": 80,
   "metadata": {
    "collapsed": true
   },
   "outputs": [],
   "source": [
    "### TODO: Write a function that takes a path to an image as input\n",
    "### and returns the dog breed that is predicted by the model.\n",
    "def VGG19_predict_breed(img_path):\n",
    "    # extract bottleneck features\n",
    "    bottleneck_feature = extract_VGG19(path_to_tensor(img_path))\n",
    "    # obtain predicted vector\n",
    "    predicted_vector = VGG19_model.predict(bottleneck_feature)\n",
    "    # return dog breed that is predicted by the model\n",
    "    return dog_names[np.argmax(predicted_vector)]"
   ]
  },
  {
   "cell_type": "markdown",
   "metadata": {},
   "source": [
    "---\n",
    "<a id='step6'></a>\n",
    "## Step 6: Write your Algorithm\n",
    "\n",
    "Write an algorithm that accepts a file path to an image and first determines whether the image contains a human, dog, or neither.  Then,\n",
    "- if a __dog__ is detected in the image, return the predicted breed.\n",
    "- if a __human__ is detected in the image, return the resembling dog breed.\n",
    "- if __neither__ is detected in the image, provide output that indicates an error.\n",
    "\n",
    "You are welcome to write your own functions for detecting humans and dogs in images, but feel free to use the `face_detector` and `dog_detector` functions developed above.  You are __required__ to use your CNN from Step 5 to predict dog breed.  \n",
    "\n",
    "Some sample output for our algorithm is provided below, but feel free to design your own user experience!\n",
    "\n",
    "![Sample Human Output](images/sample_human_output.png)\n",
    "\n",
    "\n",
    "### (IMPLEMENTATION) Write your Algorithm"
   ]
  },
  {
   "cell_type": "code",
   "execution_count": 38,
   "metadata": {
    "collapsed": true
   },
   "outputs": [],
   "source": [
    "### TODO: Write your algorithm.\n",
    "### Feel free to use as many code cells as needed.\n",
    "def myAlgorithm(image_in_folder):\n",
    "    \n",
    "    if  dog_detector(image_in_folder):\n",
    "        #check breed\n",
    "        print( VGG19_predict_breed(image_in_folder))\n",
    "        return VGG19_predict_breed(image_in_folder)\n",
    "    elif not dog_detector(image_in_folder):\n",
    "        #human similar breed\n",
    "        print(\"human detected\")\n",
    "        print( VGG19_predict_breed(image_in_folder))\n",
    "        return VGG19_predict_breed(image_in_folder)\n",
    "    else:\n",
    "        print(\"Error\")\n",
    "        return \"Error\"\n",
    "        "
   ]
  },
  {
   "cell_type": "markdown",
   "metadata": {},
   "source": [
    "![image 1](images_new/image1.jpeg)\n",
    "![image 1](images_new/image2.jpeg)\n",
    "![image 1](images_new/image3.jpeg)\n",
    "![image 1](images_new/image4.jpeg)\n",
    "![image 1](images_new/image5.jpeg)\n",
    "![image 1](images_new/image6.jpeg)"
   ]
  },
  {
   "cell_type": "markdown",
   "metadata": {},
   "source": [
    "---\n",
    "<a id='step7'></a>\n",
    "## Step 7: Test Your Algorithm\n",
    "\n",
    "In this section, you will take your new algorithm for a spin!  What kind of dog does the algorithm think that __you__ look like?  If you have a dog, does it predict your dog's breed accurately?  If you have a cat, does it mistakenly think that your cat is a dog?\n",
    "\n",
    "### (IMPLEMENTATION) Test Your Algorithm on Sample Images!\n",
    "\n",
    "Test your algorithm at least six images on your computer.  Feel free to use any images you like.  Use at least two human and two dog images.  \n",
    "\n",
    "__Question 6:__ Is the output better than you expected :) ?  Or worse :( ?  Provide at least three possible points of improvement for your algorithm.\n",
    "\n",
    "__Answer:__ "
   ]
  },
  {
   "cell_type": "code",
   "execution_count": 91,
   "metadata": {},
   "outputs": [
    {
     "name": "stdout",
     "output_type": "stream",
     "text": [
      "human detected\n",
      "Basenji\n"
     ]
    },
    {
     "data": {
      "text/plain": [
       "'Basenji'"
      ]
     },
     "execution_count": 91,
     "metadata": {},
     "output_type": "execute_result"
    }
   ],
   "source": [
    "## TODO: Execute your algorithm from Step 6 on\n",
    "## at least 6 images on your computer.\n",
    "## Feel free to use as many code cells as needed.\n",
    "myAlgorithm('images_new/image1.jpeg')"
   ]
  },
  {
   "cell_type": "code",
   "execution_count": 90,
   "metadata": {},
   "outputs": [
    {
     "name": "stdout",
     "output_type": "stream",
     "text": [
      "human detected\n",
      "Cane_corso\n"
     ]
    },
    {
     "data": {
      "text/plain": [
       "'Cane_corso'"
      ]
     },
     "execution_count": 90,
     "metadata": {},
     "output_type": "execute_result"
    }
   ],
   "source": [
    "myAlgorithm('images_new/image2.jpeg')"
   ]
  },
  {
   "cell_type": "code",
   "execution_count": 92,
   "metadata": {},
   "outputs": [
    {
     "name": "stdout",
     "output_type": "stream",
     "text": [
      "Alaskan_malamute\n"
     ]
    },
    {
     "data": {
      "text/plain": [
       "'Alaskan_malamute'"
      ]
     },
     "execution_count": 92,
     "metadata": {},
     "output_type": "execute_result"
    }
   ],
   "source": [
    "myAlgorithm('images_new/image3.jpeg')"
   ]
  },
  {
   "cell_type": "code",
   "execution_count": 86,
   "metadata": {},
   "outputs": [
    {
     "name": "stdout",
     "output_type": "stream",
     "text": [
      "Belgian_malinois\n"
     ]
    },
    {
     "data": {
      "text/plain": [
       "'Belgian_malinois'"
      ]
     },
     "execution_count": 86,
     "metadata": {},
     "output_type": "execute_result"
    }
   ],
   "source": [
    "myAlgorithm('images_new/image4.jpeg')"
   ]
  },
  {
   "cell_type": "code",
   "execution_count": 87,
   "metadata": {},
   "outputs": [
    {
     "name": "stdout",
     "output_type": "stream",
     "text": [
      "Afghan_hound\n"
     ]
    },
    {
     "data": {
      "text/plain": [
       "'Afghan_hound'"
      ]
     },
     "execution_count": 87,
     "metadata": {},
     "output_type": "execute_result"
    }
   ],
   "source": [
    "myAlgorithm('images_new/image5.jpeg')"
   ]
  },
  {
   "cell_type": "code",
   "execution_count": 88,
   "metadata": {},
   "outputs": [
    {
     "name": "stdout",
     "output_type": "stream",
     "text": [
      "American_eskimo_dog\n"
     ]
    },
    {
     "data": {
      "text/plain": [
       "'American_eskimo_dog'"
      ]
     },
     "execution_count": 88,
     "metadata": {},
     "output_type": "execute_result"
    }
   ],
   "source": [
    "myAlgorithm('images_new/image6.jpeg')"
   ]
  },
  {
   "cell_type": "markdown",
   "metadata": {},
   "source": [
    "# Ans:-\n",
    "output better than expected no. 4 out of 6 is correctly identified. Ways of improvement:-\n",
    "(1)as training accuracy is more than validation accuracy. model is overfiting . So we should try to play with regularization to reach good validation accuracy.\n",
    "(2) add more hidden layer over VGG19 transfer modal\n",
    "(3)We should build more data using image augmentation and train on bigger data."
   ]
  },
  {
   "cell_type": "code",
   "execution_count": null,
   "metadata": {
    "collapsed": true
   },
   "outputs": [],
   "source": []
  }
 ],
 "metadata": {
  "anaconda-cloud": {},
  "kernelspec": {
   "display_name": "Python 3",
   "language": "python",
   "name": "python3"
  },
  "language_info": {
   "codemirror_mode": {
    "name": "ipython",
    "version": 3
   },
   "file_extension": ".py",
   "mimetype": "text/x-python",
   "name": "python",
   "nbconvert_exporter": "python",
   "pygments_lexer": "ipython3",
   "version": "3.5.2"
  }
 },
 "nbformat": 4,
 "nbformat_minor": 1
}
